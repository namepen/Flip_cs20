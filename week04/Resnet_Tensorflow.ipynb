{
 "cells": [
  {
   "cell_type": "markdown",
   "metadata": {},
   "source": [
    "http://incredible.ai/artificial-intelligence/2017/10/28/Deep-Residual-Neural-Network/\n"
   ]
  },
  {
   "cell_type": "code",
   "execution_count": 1,
   "metadata": {},
   "outputs": [
    {
     "name": "stdout",
     "output_type": "stream",
     "text": [
      "WARNING:tensorflow:From D:\\Program Files\\Anaconda3\\envs\\tensorflow_1_7\\lib\\site-packages\\tensorflow\\contrib\\learn\\python\\learn\\datasets\\base.py:198: retry (from tensorflow.contrib.learn.python.learn.datasets.base) is deprecated and will be removed in a future version.\n",
      "Instructions for updating:\n",
      "Use the retry module or similar alternatives.\n"
     ]
    }
   ],
   "source": [
    "import tensorflow as tf\n",
    "import numpy as np\n",
    "import matplotlib.pyplot as plt\n",
    "import time\n",
    "\n",
    "slim = tf.contrib.slim"
   ]
  },
  {
   "cell_type": "code",
   "execution_count": 2,
   "metadata": {},
   "outputs": [],
   "source": [
    "tf.reset_default_graph()"
   ]
  },
  {
   "cell_type": "markdown",
   "metadata": {},
   "source": [
    "## Import dataset"
   ]
  },
  {
   "cell_type": "code",
   "execution_count": 3,
   "metadata": {},
   "outputs": [],
   "source": [
    "(x_train, y_train), (x_test, y_test) =  tf.keras.datasets.mnist.load_data()\n",
    "\n",
    "x_train = x_train/255.0\n",
    "x_train = x_train.astype(dtype=np.float32)\n",
    "y_train = np.asarray(y_train, dtype=np.int32)\n",
    "\n",
    "x_test = x_test/255.0\n",
    "x_test = x_test.astype(np.float32)\n",
    "y_test = np.asarray(y_test, dtype=np.int32)"
   ]
  },
  {
   "cell_type": "markdown",
   "metadata": {},
   "source": [
    "## Split data"
   ]
  },
  {
   "cell_type": "code",
   "execution_count": 4,
   "metadata": {},
   "outputs": [
    {
     "name": "stdout",
     "output_type": "stream",
     "text": [
      "train data : (50000, 28, 28), (50000,)\n",
      "val data : (10000, 28, 28), (10000,)\n"
     ]
    }
   ],
   "source": [
    "train_data_size = 50000\n",
    "train_idx = np.random.choice(np.arange(x_train.shape[0]), size=train_data_size, replace=False)\n",
    "\n",
    "x_tr = x_train[train_idx]\n",
    "y_tr = y_train[train_idx]\n",
    "\n",
    "x_val = np.delete(arr=x_train, obj=train_idx, axis=0)\n",
    "y_val = np.delete(arr=y_train, obj=train_idx, axis=0)\n",
    "\n",
    "print('train data : {}, {}'.format(x_tr.shape, y_tr.shape))\n",
    "print('val data : {}, {}'.format(x_val.shape, y_val.shape))"
   ]
  },
  {
   "cell_type": "markdown",
   "metadata": {},
   "source": [
    "## Set up dataset with tf.data"
   ]
  },
  {
   "cell_type": "code",
   "execution_count": 5,
   "metadata": {},
   "outputs": [
    {
     "name": "stdout",
     "output_type": "stream",
     "text": [
      "<BatchDataset shapes: ((?, 28, 28), (?,)), types: (tf.float32, tf.int32)>\n",
      "<BatchDataset shapes: ((?, 28, 28), (?,)), types: (tf.float32, tf.int32)>\n"
     ]
    }
   ],
   "source": [
    "batch_size = 32\n",
    "\n",
    "# for training\n",
    "tr_dataset = tf.data.Dataset.from_tensor_slices((x_tr, y_tr))\n",
    "tr_dataset = tr_dataset.shuffle(buffer_size = 10000)\n",
    "tr_dataset = tr_dataset.batch(batch_size = batch_size)\n",
    "tr_iterator = tr_dataset.make_initializable_iterator()\n",
    "\n",
    "print(tr_dataset)\n",
    "\n",
    "# for validation\n",
    "# validation data의 용량이 in memory에 넣을 수 없을정도로 아래와 같이 활용한다.\n",
    "val_dataset = tf.data.Dataset.from_tensor_slices((x_val, y_val))\n",
    "val_dataset = val_dataset.shuffle(buffer_size = 10000)\n",
    "val_dataset = val_dataset.batch(batch_size = batch_size)\n",
    "val_iterator = val_dataset.make_initializable_iterator()\n",
    "\n",
    "print(val_dataset)"
   ]
  },
  {
   "cell_type": "code",
   "execution_count": 6,
   "metadata": {},
   "outputs": [],
   "source": [
    "# tf.data.Iterator.from_string_handle의 output_shapes는 default = None이지만 꼭 값을 넣는 게 좋음\n",
    "handle = tf.placeholder(tf.string)\n",
    "iterator = tf.data.Iterator.from_string_handle(handle,\n",
    "                                               tr_dataset.output_types,\n",
    "                                               tr_dataset.output_shapes)\n",
    "x, y = iterator.get_next()"
   ]
  },
  {
   "cell_type": "markdown",
   "metadata": {},
   "source": [
    "## Create the model"
   ]
  },
  {
   "cell_type": "markdown",
   "metadata": {},
   "source": [
    "Output size\n",
    "\n",
    "- padding='SAME' : ceil(float(H_in))/float(S)\n",
    "\n",
    "- padding='VALID' : ceil(float(H_in - F + 1) / float(S))\n"
   ]
  },
  {
   "cell_type": "markdown",
   "metadata": {},
   "source": [
    "### tf.layers"
   ]
  },
  {
   "cell_type": "code",
   "execution_count": 10,
   "metadata": {},
   "outputs": [],
   "source": [
    "def residual_block(input_layer, kernels, filters, stride, is_training):\n",
    "    \"\"\"\n",
    "    input -> Conv -> Relu -> Conv -> Addition -> Relu -> Output\n",
    "    \"\"\"\n",
    "    \n",
    "    conv = tf.layers.conv2d(input_layer, filters=filters, kernel_size=kernels, strides=stride, \n",
    "                    activation=None, padding='SAME')\n",
    "    conv = tf.layers.batch_normalization(conv, epsilon=1e-5, training=is_training)\n",
    "    conv = tf.nn.relu(conv)\n",
    "    \n",
    "    conv = tf.layers.conv2d(conv, filters=filters, kernel_size=kernels, strides=stride, padding='SAME')\n",
    "    conv = tf.layers.batch_normalization(conv, epsilon=1e-5, training=is_training)\n",
    "    \n",
    "    input_projection = tf.layers.conv2d(input_layer, filters=filters, kernel_size=1, strides=1)\n",
    "    conv_shortcut_connection = tf.nn.relu(tf.add(conv, input_projection))\n",
    "    \n",
    "    conv = tf.layers.conv2d(conv_shortcut_connection, filters=filters, kernel_size=kernels, strides=stride, \n",
    "                    activation=tf.nn.relu, padding='SAME')\n",
    "    conv = tf.layers.batch_normalization(conv, epsilon=1e-5, training=is_training)\n",
    "    conv = tf.nn.relu(conv)\n",
    "    \n",
    "    conv = tf.layers.conv2d(conv, filters=filters, kernel_size=kernels, strides=stride, padding='SAME')\n",
    "    conv = tf.layers.batch_normalization(conv, epsilon=1e-5, training=is_training)\n",
    "    \n",
    "    conv_shortcut_connection = tf.nn.relu(tf.add(conv, conv_shortcut_connection))\n",
    "    \n",
    "    return tf.layers.max_pooling2d(conv_shortcut_connection, pool_size=2, strides=2, padding='SAME')"
   ]
  },
  {
   "cell_type": "code",
   "execution_count": 11,
   "metadata": {},
   "outputs": [],
   "source": [
    "def cnn_model(x):\n",
    "    \n",
    "    is_training = tf.placeholder(tf.bool)\n",
    "    \n",
    "    with tf.variable_scope('input_layer'):\n",
    "        input_layer = tf.reshape(x, shape=[-1, 28, 28, 1])\n",
    "        # Now [batch x 28 x 28 x 1]\n",
    "        conv = tf.layers.conv2d(input_layer, filters=8, kernel_size=3, strides=1, padding='SAME',\n",
    "                               activation=tf.nn.relu)\n",
    "        # Now [batch x 28 x 28 x 8]\n",
    "        \n",
    "    with tf.variable_scope('residual_1'):\n",
    "        conv = residual_block(conv, kernels=3, filters=16, stride=1, is_training=is_training)\n",
    "        # Now [batch x 14 x 14 x 16]\n",
    "    with tf.variable_scope('residual_2'):\n",
    "        conv = residual_block(conv, kernels=3, filters=32, stride=1, is_training=is_training)\n",
    "        # Now [batch x 7 x 7 x 32]\n",
    "    with tf.variable_scope('residual_3'):\n",
    "        conv = residual_block(conv, kernels=3, filters=64, stride=1, is_training=is_training)\n",
    "        # Now [batch x 4 x 4 x 64]\n",
    "        \n",
    "    with tf.variable_scope('dense'):\n",
    "        flatten = tf.reshape(conv, [-1, 4*4*64]) # tf.layer.flatten(conv)\n",
    "    \n",
    "        fc1 = tf.layers.dense(flatten, 1024, activation=tf.nn.relu, name='fc1')\n",
    "        \n",
    "        dropout = tf.layers.dropout(fc1, rate=0.4, training=is_training, name='dropout')\n",
    "        logits = tf.layers.dense(dropout, 10, name='logits')\n",
    "        \n",
    "        return logits, is_training, input_layer"
   ]
  },
  {
   "cell_type": "code",
   "execution_count": 12,
   "metadata": {},
   "outputs": [],
   "source": [
    "logits, is_training, x_image = cnn_model(x)"
   ]
  },
  {
   "cell_type": "markdown",
   "metadata": {},
   "source": [
    "## Define loss and optimizer"
   ]
  },
  {
   "cell_type": "code",
   "execution_count": 13,
   "metadata": {},
   "outputs": [],
   "source": [
    "cross_entropy = tf.losses.sparse_softmax_cross_entropy(labels=y, logits=logits)\n",
    "\n",
    "with tf.control_dependencies(tf.get_collection(tf.GraphKeys.UPDATE_OPS)):\n",
    "    train_step = tf.train.AdamOptimizer().minimize(cross_entropy)"
   ]
  },
  {
   "cell_type": "markdown",
   "metadata": {},
   "source": [
    "## Assign tf.summary.FileWriter"
   ]
  },
  {
   "cell_type": "code",
   "execution_count": 14,
   "metadata": {},
   "outputs": [
    {
     "name": "stdout",
     "output_type": "stream",
     "text": [
      "Saving grapg to: graphs/tensorflow_resnet\n"
     ]
    }
   ],
   "source": [
    "graph_location = 'graphs/tensorflow_resnet'\n",
    "print('Saving grapg to: %s' % graph_location)\n",
    "# open FileWriter\n",
    "train_writer = tf.summary.FileWriter(graph_location)\n",
    "# add current default graph to the writer\n",
    "train_writer.add_graph(tf.get_default_graph())"
   ]
  },
  {
   "cell_type": "markdown",
   "metadata": {},
   "source": [
    "## tf.summary"
   ]
  },
  {
   "cell_type": "code",
   "execution_count": 15,
   "metadata": {},
   "outputs": [],
   "source": [
    "with tf.name_scope('summaries'):\n",
    "    tf.summary.scalar('loss/cross_entropy', cross_entropy)\n",
    "    tf.summary.image('images', x_image)\n",
    "    for var in tf.trainable_variables():\n",
    "        tf.summary.histogram(var.op.name, var)\n",
    "    summary_op = tf.summary.merge_all()"
   ]
  },
  {
   "cell_type": "markdown",
   "metadata": {},
   "source": [
    "## tf.Session() and train"
   ]
  },
  {
   "cell_type": "code",
   "execution_count": 16,
   "metadata": {
    "scrolled": true
   },
   "outputs": [
    {
     "name": "stdout",
     "output_type": "stream",
     "text": [
      "Epoch: 0 Training Elapsed Time : 16.966204404830933\n",
      "epochs :   1, tr_loss : 0.199, val_loss : 0.110\n",
      "Epoch: 1 Training Elapsed Time : 14.478538990020752\n",
      "epochs :   2, tr_loss : 0.067, val_loss : 0.164\n",
      "Epoch: 2 Training Elapsed Time : 14.591488361358643\n",
      "epochs :   3, tr_loss : 0.054, val_loss : 0.109\n",
      "Epoch: 3 Training Elapsed Time : 14.707720041275024\n",
      "epochs :   4, tr_loss : 0.044, val_loss : 0.106\n",
      "Epoch: 4 Training Elapsed Time : 14.543276309967041\n",
      "epochs :   5, tr_loss : 0.038, val_loss : 0.050\n",
      "Epoch: 5 Training Elapsed Time : 14.468720197677612\n",
      "epochs :   6, tr_loss : 0.034, val_loss : 0.032\n",
      "Epoch: 6 Training Elapsed Time : 14.9443039894104\n",
      "epochs :   7, tr_loss : 0.029, val_loss : 0.056\n",
      "Epoch: 7 Training Elapsed Time : 14.636051654815674\n",
      "epochs :   8, tr_loss : 0.028, val_loss : 0.066\n",
      "Epoch: 8 Training Elapsed Time : 14.487236976623535\n",
      "epochs :   9, tr_loss : 0.023, val_loss : 0.059\n",
      "Epoch: 9 Training Elapsed Time : 14.66176962852478\n",
      "epochs :  10, tr_loss : 0.023, val_loss : 0.044\n"
     ]
    }
   ],
   "source": [
    "sess_config = tf.ConfigProto(gpu_options=tf.GPUOptions(allow_growth=True))\n",
    "sess = tf.Session(config=sess_config)\n",
    "sess.run(tf.global_variables_initializer())\n",
    "\n",
    "# history\n",
    "tr_hist = []\n",
    "val_hist = []\n",
    "\n",
    "# Generate handles of tr_iterator and val_iterator\n",
    "tr_handle, val_handle = sess.run(fetches = [tr_iterator.string_handle(), val_iterator.string_handle()])\n",
    "\n",
    "# Train\n",
    "max_epochs = 10\n",
    "\n",
    "for epoch in range(max_epochs):\n",
    "    \n",
    "    avg_tr_loss = 0\n",
    "    avg_val_loss = 0\n",
    "    tr_step = 0\n",
    "    val_step = 0\n",
    "    \n",
    "    # training 1-epoch\n",
    "    sess.run(tr_iterator.initializer)\n",
    "    start_time = time.time()\n",
    "    \n",
    "    while True:\n",
    "        try:\n",
    "            _, tr_loss = sess.run(fetches = [train_step, cross_entropy],\n",
    "                               feed_dict = {handle : tr_handle, is_training : True})\n",
    "            \n",
    "            \n",
    "            if tr_step % 100 == 0:\n",
    "                summary_str = sess.run(summary_op, feed_dict={handle: tr_handle, is_training: False})\n",
    "                train_writer.add_summary(summary_str, global_step=tr_step)\n",
    "            tr_step += 1\n",
    "            avg_tr_loss += tr_loss\n",
    "\n",
    "        except tf.errors.OutOfRangeError:\n",
    "            break\n",
    "    print(\"Epoch: {} Training Elapsed Time : {}\".format(epoch, time.time()-start_time))\n",
    "    \n",
    "    # validation 1-epoch\n",
    "    sess.run(val_iterator.initializer)\n",
    "    while True:\n",
    "        try:\n",
    "            val_loss = sess.run(cross_entropy, \n",
    "                                feed_dict = {handle : val_handle, is_training : False})\n",
    "            val_step += 1\n",
    "            avg_val_loss += val_loss\n",
    "        \n",
    "        except tf.errors.OutOfRangeError:\n",
    "            break\n",
    "            \n",
    "    avg_tr_loss /= tr_step\n",
    "    avg_val_loss /= val_step\n",
    "    tr_hist.append(avg_tr_loss)\n",
    "    val_hist.append(avg_val_loss)\n",
    "    \n",
    "    print('epochs : {:3}, tr_loss : {:.3f}, val_loss : {:.3f}'.format(epoch + 1, avg_tr_loss, avg_val_loss))"
   ]
  },
  {
   "cell_type": "markdown",
   "metadata": {},
   "source": [
    "## Test trained Model"
   ]
  },
  {
   "cell_type": "code",
   "execution_count": 16,
   "metadata": {},
   "outputs": [],
   "source": [
    "yhat = sess.run(logits, feed_dict = {x : x_test, is_training : False})\n",
    "yhat = np.argmax(yhat, axis = 1)"
   ]
  },
  {
   "cell_type": "code",
   "execution_count": 17,
   "metadata": {},
   "outputs": [
    {
     "name": "stdout",
     "output_type": "stream",
     "text": [
      "test accuracy : 98.65%\n"
     ]
    }
   ],
   "source": [
    "print('test accuracy : {:.2%}'.format(np.mean(yhat == y_test)))"
   ]
  },
  {
   "cell_type": "markdown",
   "metadata": {},
   "source": [
    "## Visualize history"
   ]
  },
  {
   "cell_type": "code",
   "execution_count": 18,
   "metadata": {},
   "outputs": [
    {
     "data": {
      "text/plain": [
       "<matplotlib.legend.Legend at 0x1d829299748>"
      ]
     },
     "execution_count": 18,
     "metadata": {},
     "output_type": "execute_result"
    },
    {
     "data": {
      "image/png": "[encoded data removed]",
      "text/plain": [
       "<Figure size 432x288 with 1 Axes>"
      ]
     },
     "metadata": {},
     "output_type": "display_data"
    }
   ],
   "source": [
    "plt.plot(tr_hist, label = 'train')\n",
    "plt.plot(val_hist, label = 'validation')\n",
    "plt.legend()"
   ]
  },
  {
   "cell_type": "markdown",
   "metadata": {},
   "source": [
    "![title](resnet.PNG)"
   ]
  },
  {
   "cell_type": "markdown",
   "metadata": {},
   "source": [
    "![title](resnet_2.PNG)"
   ]
  },
  {
   "cell_type": "markdown",
   "metadata": {},
   "source": [
    "## Slim"
   ]
  },
  {
   "cell_type": "code",
   "execution_count": 7,
   "metadata": {},
   "outputs": [],
   "source": [
    "def residual_block_slim(input_layer, kernels, filters, stride, is_training):\n",
    "    \n",
    "    batch_norm_params = {\n",
    "        'decay' : 0.997,\n",
    "        'epsilon' : 1e-5,\n",
    "        'scale' : True,\n",
    "        'updates_collections' : tf.GraphKeys.UPDATE_OPS,\n",
    "        'is_training': is_training\n",
    "    }\n",
    "    \n",
    "    with slim.arg_scope([slim.conv2d], padding='SAME',\n",
    "                       weights_regularizer=slim.l2_regularizer(scale=0.0001),\n",
    "                        kernel_size=kernels,\n",
    "                        num_outputs = filters,\n",
    "                        stride=stride,\n",
    "                        normalizer_fn = slim.batch_norm,\n",
    "                        normalizer_params=batch_norm_params):\n",
    "        \n",
    "        net = slim.conv2d(input_layer, scope='conv1')\n",
    "        net = slim.conv2d(net, activation_fn=None, scope='conv2')\n",
    "        \n",
    "        # projection shortcut is used to mactch dimensions\n",
    "        input_projection = slim.conv2d(input_layer, kernel_size=1, scope='projection')\n",
    "        shortcut_connection = tf.nn.relu(net+input_projection)\n",
    "        \n",
    "        net = slim.conv2d(shortcut_connection, scope='conv3')\n",
    "        net = slim.conv2d(net, activation_fn=None, scope='conv4')\n",
    "        \n",
    "        # idendity shortcut\n",
    "        shortcut_connection = tf.nn.relu(net+shortcut_connection)\n",
    "        # subsampling\n",
    "        return slim.max_pool2d(shortcut_connection, kernel_size=2, stride=2, padding='SAME')  "
   ]
  },
  {
   "cell_type": "code",
   "execution_count": 8,
   "metadata": {},
   "outputs": [],
   "source": [
    "def cnn_model_slim(x):\n",
    "    \n",
    "    is_training = tf.placeholder(tf.bool)\n",
    "    \n",
    "    with tf.name_scope('init_conv'):\n",
    "        x_image = tf.reshape(x, shape=[-1, 28,28,1])\n",
    "        \n",
    "        conv = slim.conv2d(x_image, 8, 3, 1, weights_regularizer=slim.l2_regularizer(scale=0.0001))\n",
    "        \n",
    "    with tf.variable_scope('residual_1'):\n",
    "        conv = residual_block_slim(conv, kernels=3, filters=16, stride=1, is_training=is_training)\n",
    "        \n",
    "    with tf.variable_scope('residual_2'):\n",
    "        conv = residual_block_slim(conv, kernels=3, filters=32, stride=1, is_training=is_training)\n",
    "        \n",
    "    with tf.variable_scope('residual_3'):\n",
    "        conv = residual_block_slim(conv, kernels=3, filters=64, stride=1, is_training=is_training)\n",
    "        \n",
    "    with tf.variable_scope('dense'):\n",
    "        flatten = slim.flatten(conv)\n",
    "        with slim.arg_scope([slim.fully_connected],\n",
    "                           weights_regularizer = slim.l2_regularizer(scale=0.0001)):\n",
    "            fc1 = slim.fully_connected(flatten, 1024, scope='fc1')\n",
    "            dropout = slim.dropout(fc1, keep_prob=0.6, is_training=is_training, scope='dropout')\n",
    "            logits = slim.fully_connected(dropout, 10, activation_fn=None, scope='logits')\n",
    "    \n",
    "    return logits, is_training, x_image"
   ]
  },
  {
   "cell_type": "code",
   "execution_count": 9,
   "metadata": {},
   "outputs": [],
   "source": [
    "logits, is_training, x_image = cnn_model_slim(x)"
   ]
  },
  {
   "cell_type": "markdown",
   "metadata": {},
   "source": [
    "## Define loss and optimizer"
   ]
  },
  {
   "cell_type": "code",
   "execution_count": 11,
   "metadata": {},
   "outputs": [
    {
     "name": "stdout",
     "output_type": "stream",
     "text": [
      "WARNING:tensorflow:From <ipython-input-11-e9879dce139d>:1: sparse_softmax_cross_entropy (from tensorflow.contrib.losses.python.losses.loss_ops) is deprecated and will be removed after 2016-12-30.\n",
      "Instructions for updating:\n",
      "Use tf.losses.sparse_softmax_cross_entropy instead. Note that the order of the logits and labels arguments has been changed.\n",
      "WARNING:tensorflow:From D:\\Program Files\\Anaconda3\\envs\\tensorflow_1_7\\lib\\site-packages\\tensorflow\\contrib\\losses\\python\\losses\\loss_ops.py:433: compute_weighted_loss (from tensorflow.contrib.losses.python.losses.loss_ops) is deprecated and will be removed after 2016-12-30.\n",
      "Instructions for updating:\n",
      "Use tf.losses.compute_weighted_loss instead.\n",
      "WARNING:tensorflow:From D:\\Program Files\\Anaconda3\\envs\\tensorflow_1_7\\lib\\site-packages\\tensorflow\\contrib\\losses\\python\\losses\\loss_ops.py:146: add_arg_scope.<locals>.func_with_args (from tensorflow.contrib.losses.python.losses.loss_ops) is deprecated and will be removed after 2016-12-30.\n",
      "Instructions for updating:\n",
      "Use tf.losses.add_loss instead.\n",
      "WARNING:tensorflow:From <ipython-input-11-e9879dce139d>:2: get_total_loss (from tensorflow.contrib.losses.python.losses.loss_ops) is deprecated and will be removed after 2016-12-30.\n",
      "Instructions for updating:\n",
      "Use tf.losses.get_total_loss instead.\n",
      "WARNING:tensorflow:From D:\\Program Files\\Anaconda3\\envs\\tensorflow_1_7\\lib\\site-packages\\tensorflow\\contrib\\losses\\python\\losses\\loss_ops.py:257: get_losses (from tensorflow.contrib.losses.python.losses.loss_ops) is deprecated and will be removed after 2016-12-30.\n",
      "Instructions for updating:\n",
      "Use tf.losses.get_losses instead.\n",
      "WARNING:tensorflow:From D:\\Program Files\\Anaconda3\\envs\\tensorflow_1_7\\lib\\site-packages\\tensorflow\\contrib\\losses\\python\\losses\\loss_ops.py:259: get_regularization_losses (from tensorflow.contrib.losses.python.losses.loss_ops) is deprecated and will be removed after 2016-12-30.\n",
      "Instructions for updating:\n",
      "Use tf.losses.get_regularization_losses instead.\n"
     ]
    }
   ],
   "source": [
    "cross_entropy = slim.losses.sparse_softmax_cross_entropy(logits=logits, labels=y)\n",
    "total_loss = slim.losses.get_total_loss()\n",
    "\n",
    "with tf.control_dependencies(tf.get_collection(tf.GraphKeys.UPDATE_OPS)):\n",
    "    train_step = tf.train.AdamOptimizer().minimize(total_loss)"
   ]
  },
  {
   "cell_type": "markdown",
   "metadata": {},
   "source": [
    "## Assign FileWriter"
   ]
  },
  {
   "cell_type": "code",
   "execution_count": 12,
   "metadata": {},
   "outputs": [
    {
     "name": "stdout",
     "output_type": "stream",
     "text": [
      "Saving grapg to: graphs/tensorflow_resnet_slim\n"
     ]
    }
   ],
   "source": [
    "graph_location = 'graphs/tensorflow_resnet_slim'\n",
    "print('Saving grapg to: %s' % graph_location)\n",
    "# open FileWriter\n",
    "train_writer = tf.summary.FileWriter(graph_location)\n",
    "# add current default graph to the writer\n",
    "train_writer.add_graph(tf.get_default_graph())"
   ]
  },
  {
   "cell_type": "markdown",
   "metadata": {},
   "source": [
    "## tf.summary"
   ]
  },
  {
   "cell_type": "code",
   "execution_count": 13,
   "metadata": {},
   "outputs": [],
   "source": [
    "with tf.name_scope('summaries'):\n",
    "    tf.summary.scalar('loss/cross_entropy', total_loss)\n",
    "    tf.summary.image('images', x_image)\n",
    "    for var in tf.trainable_variables():\n",
    "        tf.summary.histogram(var.op.name, var)\n",
    "    summary_op = tf.summary.merge_all()"
   ]
  },
  {
   "cell_type": "markdown",
   "metadata": {},
   "source": [
    "## tf.Session() and train"
   ]
  },
  {
   "cell_type": "code",
   "execution_count": 14,
   "metadata": {},
   "outputs": [
    {
     "name": "stdout",
     "output_type": "stream",
     "text": [
      "Epoch: 0 Training Elapsed Time : 24.955445766448975\n",
      "epochs :   1, tr_loss : 0.249, val_loss : 0.270\n",
      "Epoch: 1 Training Elapsed Time : 20.924245834350586\n",
      "epochs :   2, tr_loss : 0.131, val_loss : 0.187\n",
      "Epoch: 2 Training Elapsed Time : 20.980536460876465\n",
      "epochs :   3, tr_loss : 0.111, val_loss : 0.133\n",
      "Epoch: 3 Training Elapsed Time : 20.7476806640625\n",
      "epochs :   4, tr_loss : 0.101, val_loss : 0.097\n",
      "Epoch: 4 Training Elapsed Time : 20.709818601608276\n",
      "epochs :   5, tr_loss : 0.091, val_loss : 0.123\n",
      "Epoch: 5 Training Elapsed Time : 20.61264395713806\n",
      "epochs :   6, tr_loss : 0.086, val_loss : 0.104\n",
      "Epoch: 6 Training Elapsed Time : 20.515162706375122\n",
      "epochs :   7, tr_loss : 0.081, val_loss : 0.087\n",
      "Epoch: 7 Training Elapsed Time : 20.3460590839386\n",
      "epochs :   8, tr_loss : 0.076, val_loss : 0.080\n",
      "Epoch: 8 Training Elapsed Time : 20.39953064918518\n",
      "epochs :   9, tr_loss : 0.074, val_loss : 0.085\n",
      "Epoch: 9 Training Elapsed Time : 20.767143726348877\n",
      "epochs :  10, tr_loss : 0.072, val_loss : 0.093\n"
     ]
    }
   ],
   "source": [
    "sess_config = tf.ConfigProto(gpu_options=tf.GPUOptions(allow_growth=True))\n",
    "sess = tf.Session(config=sess_config)\n",
    "sess.run(tf.global_variables_initializer())\n",
    "\n",
    "# history\n",
    "tr_hist = []\n",
    "val_hist = []\n",
    "\n",
    "# Generate handles of tr_iterator and val_iterator\n",
    "tr_handle, val_handle = sess.run(fetches = [tr_iterator.string_handle(), val_iterator.string_handle()])\n",
    "\n",
    "# Train\n",
    "max_epochs = 10\n",
    "\n",
    "for epoch in range(max_epochs):\n",
    "    \n",
    "    avg_tr_loss = 0\n",
    "    avg_val_loss = 0\n",
    "    tr_step = 0\n",
    "    val_step = 0\n",
    "    \n",
    "    # training 1-epoch\n",
    "    sess.run(tr_iterator.initializer)\n",
    "    start_time = time.time()\n",
    "    \n",
    "    while True:\n",
    "        try:\n",
    "            _, tr_loss = sess.run(fetches = [train_step, total_loss],\n",
    "                               feed_dict = {handle : tr_handle, is_training : True})\n",
    "            \n",
    "            \n",
    "            if tr_step % 100 == 0:\n",
    "                summary_str = sess.run(summary_op, feed_dict={handle: tr_handle, is_training: False})\n",
    "                train_writer.add_summary(summary_str, global_step=tr_step)\n",
    "            tr_step += 1\n",
    "            avg_tr_loss += tr_loss\n",
    "\n",
    "        except tf.errors.OutOfRangeError:\n",
    "            break\n",
    "    print(\"Epoch: {} Training Elapsed Time : {}\".format(epoch, time.time()-start_time))\n",
    "    \n",
    "    # validation 1-epoch\n",
    "    sess.run(val_iterator.initializer)\n",
    "    while True:\n",
    "        try:\n",
    "            val_loss = sess.run(total_loss, \n",
    "                                feed_dict = {handle : val_handle, is_training : False})\n",
    "            val_step += 1\n",
    "            avg_val_loss += val_loss\n",
    "        \n",
    "        except tf.errors.OutOfRangeError:\n",
    "            break\n",
    "            \n",
    "    avg_tr_loss /= tr_step\n",
    "    avg_val_loss /= val_step\n",
    "    tr_hist.append(avg_tr_loss)\n",
    "    val_hist.append(avg_val_loss)\n",
    "    \n",
    "    print('epochs : {:3}, tr_loss : {:.3f}, val_loss : {:.3f}'.format(epoch + 1, avg_tr_loss, avg_val_loss))"
   ]
  },
  {
   "cell_type": "code",
   "execution_count": 15,
   "metadata": {},
   "outputs": [],
   "source": [
    "yhat = sess.run(logits, feed_dict = {x : x_test, is_training : False})\n",
    "yhat = np.argmax(yhat, axis = 1)"
   ]
  },
  {
   "cell_type": "code",
   "execution_count": 25,
   "metadata": {},
   "outputs": [
    {
     "name": "stdout",
     "output_type": "stream",
     "text": [
      "test accuracy : 98.94%\n"
     ]
    }
   ],
   "source": [
    "print('test accuracy : {:.2%}'.format(np.mean(yhat == y_test)))"
   ]
  },
  {
   "cell_type": "markdown",
   "metadata": {},
   "source": [
    "## Visualize histroy"
   ]
  },
  {
   "cell_type": "code",
   "execution_count": 16,
   "metadata": {
    "scrolled": true
   },
   "outputs": [
    {
     "data": {
      "text/plain": [
       "<matplotlib.legend.Legend at 0x20484cc0358>"
      ]
     },
     "execution_count": 16,
     "metadata": {},
     "output_type": "execute_result"
    },
    {
     "data": {
      "image/png": "[encoded data removed]",
      "text/plain": [
       "<Figure size 432x288 with 1 Axes>"
      ]
     },
     "metadata": {},
     "output_type": "display_data"
    }
   ],
   "source": [
    "plt.plot(tr_hist, label = 'train')\n",
    "plt.plot(val_hist, label = 'validation')\n",
    "plt.legend()"
   ]
  },
  {
   "cell_type": "markdown",
   "metadata": {},
   "source": [
    "![title](resnet_slim.PNG)"
   ]
  },
  {
   "cell_type": "markdown",
   "metadata": {},
   "source": [
    "![title](resnet_slim_2.PNG)"
   ]
  }
 ],
 "metadata": {
  "kernelspec": {
   "display_name": "Python 3",
   "language": "python",
   "name": "python3"
  },
  "language_info": {
   "codemirror_mode": {
    "name": "ipython",
    "version": 3
   },
   "file_extension": ".py",
   "mimetype": "text/x-python",
   "name": "python",
   "nbconvert_exporter": "python",
   "pygments_lexer": "ipython3",
   "version": "3.5.5"
  }
 },
 "nbformat": 4,
 "nbformat_minor": 2
}
