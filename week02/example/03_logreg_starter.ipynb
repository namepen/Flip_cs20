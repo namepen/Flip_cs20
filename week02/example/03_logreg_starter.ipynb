{
 "cells": [
  {
   "cell_type": "markdown",
   "metadata": {},
   "source": [
    "## Logistic regression with mnist dataset\n",
    "\n",
    "example의 log_starter 실습"
   ]
  },
  {
   "cell_type": "code",
   "execution_count": 1,
   "metadata": {},
   "outputs": [
    {
     "name": "stderr",
     "output_type": "stream",
     "text": [
      "C:\\Users\\home\\Anaconda3\\lib\\site-packages\\h5py\\__init__.py:36: FutureWarning: Conversion of the second argument of issubdtype from `float` to `np.floating` is deprecated. In future, it will be treated as `np.float64 == np.dtype(float).type`.\n",
      "  from ._conv import register_converters as _register_converters\n"
     ]
    }
   ],
   "source": [
    "\"\"\" Starter code for simple logistic regression model for MNIST\n",
    "with tf.data module\n",
    "MNIST dataset: yann.lecun.com/exdb/mnist/\n",
    "Created by Chip Huyen (chiphuyen@cs.stanford.edu)\n",
    "CS20: \"TensorFlow for Deep Learning Research\"\n",
    "cs20.stanford.edu\n",
    "Lecture 03\n",
    "\"\"\"\n",
    "import os\n",
    "os.environ['TF_CPP_MIN_LOG_LEVEL']='2'\n",
    "\n",
    "import numpy as np\n",
    "import tensorflow as tf\n",
    "import time\n",
    "\n",
    "import utils"
   ]
  },
  {
   "cell_type": "code",
   "execution_count": 2,
   "metadata": {},
   "outputs": [],
   "source": [
    "#define hyper-paramaters\n",
    "learning_rate = 0.01\n",
    "batch_size = 128\n",
    "n_epochs = 30\n",
    "n_train = 60000\n",
    "n_test = 10000"
   ]
  },
  {
   "cell_type": "code",
   "execution_count": 3,
   "metadata": {},
   "outputs": [],
   "source": [
    "#loading mnist dataset using keras\n",
    "mnist = tf.keras.datasets.mnist\n",
    "(x_train, y_train),(x_test, y_test) = mnist.load_data()"
   ]
  },
  {
   "cell_type": "code",
   "execution_count": 4,
   "metadata": {},
   "outputs": [],
   "source": [
    "indices = np.random.permutation(y_train.shape[0])"
   ]
  },
  {
   "cell_type": "markdown",
   "metadata": {},
   "source": [
    "## preprocess dataset"
   ]
  },
  {
   "cell_type": "code",
   "execution_count": 5,
   "metadata": {},
   "outputs": [],
   "source": [
    "x_train = x_train / 255\n",
    "x_train = x_train.reshape([-1,784]) #flatten\n",
    "y_train = np.asarray(y_train, dtype=np.int32)\n",
    "\n",
    "x_test = x_test / 255\n",
    "x_test = x_test.reshape([-1, 784]) #flatten\n",
    "y_test = np.asarray(y_test, dtype=np.int32)"
   ]
  },
  {
   "cell_type": "markdown",
   "metadata": {},
   "source": [
    "## Show mnist data"
   ]
  },
  {
   "cell_type": "code",
   "execution_count": 6,
   "metadata": {},
   "outputs": [],
   "source": [
    "import matplotlib.pyplot as plt"
   ]
  },
  {
   "cell_type": "code",
   "execution_count": 7,
   "metadata": {},
   "outputs": [
    {
     "data": {
      "text/plain": [
       "<matplotlib.image.AxesImage at 0x19edbe909e8>"
      ]
     },
     "execution_count": 7,
     "metadata": {},
     "output_type": "execute_result"
    },
    {
     "data": {
      "image/png": "[encoded data removed]",
      "text/plain": [
       "<Figure size 432x288 with 1 Axes>"
      ]
     },
     "metadata": {},
     "output_type": "display_data"
    }
   ],
   "source": [
    "plt.imshow(x_train[1000].reshape([28,28]))"
   ]
  },
  {
   "cell_type": "markdown",
   "metadata": {},
   "source": [
    "## Step 2: Create datasets and iterator"
   ]
  },
  {
   "cell_type": "code",
   "execution_count": 8,
   "metadata": {},
   "outputs": [
    {
     "name": "stdout",
     "output_type": "stream",
     "text": [
      "<BatchDataset shapes: ((?, 784), (?,)), types: (tf.float64, tf.int32)>\n",
      "<BatchDataset shapes: ((?, 784), (?,)), types: (tf.float64, tf.int32)>\n"
     ]
    }
   ],
   "source": [
    "# create training Dataset and batch it\n",
    "train_data = tf.data.Dataset.from_tensor_slices((x_train, y_train))\n",
    "train_data = train_data.shuffle(10000)\n",
    "train_data = train_data.batch(batch_size)\n",
    "print(train_data)\n",
    "\n",
    "test_data = tf.data.Dataset.from_tensor_slices((x_test, y_test))\n",
    "test_data = test_data.batch(batch_size)\n",
    "print(test_data)"
   ]
  },
  {
   "cell_type": "code",
   "execution_count": 9,
   "metadata": {},
   "outputs": [],
   "source": [
    "# create one iterator and initialize it with different datasets\n",
    "iterator = tf.data.Iterator.from_structure(train_data.output_types,\n",
    "                                          train_data.output_shapes)\n",
    "img, label = iterator.get_next()\n",
    "\n",
    "train_init = iterator.make_initializer(train_data)\n",
    "test_init = iterator.make_initializer(test_data)"
   ]
  },
  {
   "cell_type": "code",
   "execution_count": 10,
   "metadata": {},
   "outputs": [],
   "source": [
    "img = tf.cast(img ,dtype=tf.float32)\n",
    "label = tf.cast(label, dtype=tf.int32)"
   ]
  },
  {
   "cell_type": "markdown",
   "metadata": {},
   "source": [
    "## Step 3: create weights and bias\n",
    "\n",
    "* w is initialized to random variables with mean of 0, stddev of 0.01 \n",
    "* b is initialized to 0\n",
    "* shape of w depends on the dimension of X and Y so that Y = tf.matmul(X, w)\n",
    "* shape of b depends on Y\n"
   ]
  },
  {
   "cell_type": "code",
   "execution_count": 11,
   "metadata": {},
   "outputs": [],
   "source": [
    "w = tf.get_variable(name='weigth', shape=(784, 10), initializer=tf.random_normal_initializer(0, 0.01))\n",
    "b = tf.get_variable(name='bias', shape=(1, 10), initializer=tf.zeros_initializer())"
   ]
  },
  {
   "cell_type": "markdown",
   "metadata": {},
   "source": [
    "## Step 4: build model\n",
    "* the model that returns the logits.\n",
    "* this logits will be later passed through softmax layer"
   ]
  },
  {
   "cell_type": "code",
   "execution_count": 12,
   "metadata": {},
   "outputs": [],
   "source": [
    "logit = tf.matmul(img, w) + b"
   ]
  },
  {
   "cell_type": "markdown",
   "metadata": {},
   "source": [
    "## Step 5: define loss function\n",
    "* use cross entropy of softmax of logits as the loss function"
   ]
  },
  {
   "cell_type": "code",
   "execution_count": 13,
   "metadata": {},
   "outputs": [],
   "source": [
    "#Original\n",
    "#entropy = tf.nn.sigmoid_cross_entropy_with_logits(logits=logit, labels=label, name='entropy')\n",
    "#loss = tf.reduce_mean(entropy, name='loss')\n",
    "\n",
    "#Other\n",
    "y_one_hot = tf.one_hot(label, depth=10)\n",
    "cross_entropy = tf.losses.softmax_cross_entropy(onehot_labels=y_one_hot, logits=logit)"
   ]
  },
  {
   "cell_type": "markdown",
   "metadata": {},
   "source": [
    "## Step 6: define training op\n",
    "* using gradient descent with learning rate of 0.01 to minimize loss"
   ]
  },
  {
   "cell_type": "code",
   "execution_count": 14,
   "metadata": {},
   "outputs": [],
   "source": [
    "optimizer = tf.train.AdadeltaOptimizer(learning_rate=0.01).minimize(cross_entropy)"
   ]
  },
  {
   "cell_type": "markdown",
   "metadata": {},
   "source": [
    "## Step 7: calculate accuracy with test set"
   ]
  },
  {
   "cell_type": "code",
   "execution_count": 16,
   "metadata": {},
   "outputs": [],
   "source": [
    "preds = tf.nn.softmax(logit)\n",
    "correct_preds = tf.equal(tf.argmax(preds, 1), tf.cast(label, tf.int64))\n",
    "accuracy = tf.reduce_sum(tf.cast(correct_preds, tf.float32))"
   ]
  },
  {
   "cell_type": "code",
   "execution_count": 17,
   "metadata": {},
   "outputs": [],
   "source": [
    "#writer\n",
    "writer = tf.summary.FileWriter(logdir='./graphs/log_str/', graph=tf.get_default_graph())"
   ]
  },
  {
   "cell_type": "code",
   "execution_count": 19,
   "metadata": {},
   "outputs": [
    {
     "name": "stdout",
     "output_type": "stream",
     "text": [
      "Average loss epoch 0: 2.2556700370967517\n",
      "Average loss epoch 1: 2.1656486535631516\n",
      "Average loss epoch 2: 2.0751462783386456\n",
      "Average loss epoch 3: 1.9861966335951393\n",
      "Average loss epoch 4: 1.9002810304861333\n",
      "Average loss epoch 5: 1.8178170314475672\n",
      "Average loss epoch 6: 1.7389544647639747\n",
      "Average loss epoch 7: 1.6644297184974655\n",
      "Average loss epoch 8: 1.5942724762694922\n",
      "Average loss epoch 9: 1.5283081968710113\n",
      "Average loss epoch 10: 1.4663861562956626\n",
      "Average loss epoch 11: 1.4087777043710639\n",
      "Average loss epoch 12: 1.3550552638100664\n",
      "Average loss epoch 13: 1.3048659003873877\n",
      "Average loss epoch 14: 1.258231823632458\n",
      "Average loss epoch 15: 1.2148125082699222\n",
      "Average loss epoch 16: 1.174424140946443\n",
      "Average loss epoch 17: 1.136829639548686\n",
      "Average loss epoch 18: 1.102000654887543\n",
      "Average loss epoch 19: 1.069671294455335\n",
      "Average loss epoch 20: 1.039398170356303\n",
      "Average loss epoch 21: 1.0111564228783791\n",
      "Average loss epoch 22: 0.9848467726697291\n",
      "Average loss epoch 23: 0.9602668770849069\n",
      "Average loss epoch 24: 0.9371758296545635\n",
      "Average loss epoch 25: 0.9155552978200445\n",
      "Average loss epoch 26: 0.8952318471886201\n",
      "Average loss epoch 27: 0.8762015902411455\n",
      "Average loss epoch 28: 0.8582605201044062\n",
      "Average loss epoch 29: 0.8413306196361209\n",
      "Total time: 59.41689109802246 seconds\n",
      "Accuracy 0.8516\n"
     ]
    }
   ],
   "source": [
    "with tf.Session() as sess:\n",
    "    \n",
    "    start_time = time.time()\n",
    "    sess.run(tf.global_variables_initializer())\n",
    "    \n",
    "    # train the model n_epochs times\n",
    "    for i in range(n_epochs):\n",
    "        sess.run(train_init)\n",
    "        total_loss = 0\n",
    "        n_batches = 0\n",
    "        \n",
    "        try:\n",
    "            while True:\n",
    "                _, l = sess.run([optimizer, cross_entropy])\n",
    "                total_loss += l\n",
    "                n_batches += 1\n",
    "        except tf.errors.OutOfRangeError:\n",
    "            pass\n",
    "        print('Average loss epoch {0}: {1}'.format(i, total_loss/n_batches))\n",
    "    print('Total time: {0} seconds'.format(time.time() - start_time))\n",
    "    \n",
    "    # test the model\n",
    "    sess.run(test_init)\n",
    "    total_correct_preds = 0\n",
    "    try:\n",
    "        while True:\n",
    "            accuracy_batch = sess.run(accuracy)\n",
    "            total_correct_preds += accuracy_batch\n",
    "    except tf.errors.OutOfRangeError:\n",
    "        pass\n",
    "        \n",
    "    print('Accuracy {0}'.format(total_correct_preds/n_test))\n",
    "\n",
    "writer.close()"
   ]
  }
 ],
 "metadata": {
  "kernelspec": {
   "display_name": "Python 3",
   "language": "python",
   "name": "python3"
  },
  "language_info": {
   "codemirror_mode": {
    "name": "ipython",
    "version": 3
   },
   "file_extension": ".py",
   "mimetype": "text/x-python",
   "name": "python",
   "nbconvert_exporter": "python",
   "pygments_lexer": "ipython3",
   "version": "3.6.5"
  }
 },
 "nbformat": 4,
 "nbformat_minor": 2
}
