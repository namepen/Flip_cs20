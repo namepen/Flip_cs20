{
 "cells": [
  {
   "cell_type": "markdown",
   "metadata": {},
   "source": [
    "## Lecture note 2: TensorFlow Ops\n",
    "\n",
    "http://web.stanford.edu/class/cs20si/syllabus.html"
   ]
  },
  {
   "cell_type": "markdown",
   "metadata": {},
   "source": [
    "### Fun with Tensorboard\n",
    "\n",
    "텐서플로에서 우리는 constants, variables, operators as ops 를 호출할 수 있다. 텐서플로우는 단순한 library가 아니다.\n",
    "Tensorflow, Tensorboard, Tensor Serving으로 이루어진 소프트웨어라고 볼 수 있다.\n",
    "\n",
    "그 중에 tensorboard는 텐서플로에서 정의된 그래프를 시각화 해주는 소프트웨어라고 볼 수 있다. 구글 관계자는 다음과 같이 언급했다.\n",
    "    \n",
    "“The computations you'll use TensorFlow for - like training a massive deep neural network - can be complex and confusing. To make it easier to understand, debug, and optimize TensorFlow programs, we've included a suite of visualization tools called TensorBoard.”\n",
    "\n"
   ]
  },
  {
   "cell_type": "markdown",
   "metadata": {},
   "source": [
    "유저가 Tensorboard를 활성화한 상태에서 텐서플로를 실행시키면, event_log 파일이 생성되게 된다. 텐서보드는 이 로그 파일을 이용하여 모델의 그래프와 실행과정(runtime)을 시각화(visualization) 할 수 있다."
   ]
  },
  {
   "cell_type": "code",
   "execution_count": 1,
   "metadata": {},
   "outputs": [
    {
     "name": "stderr",
     "output_type": "stream",
     "text": [
      "C:\\Users\\home\\Anaconda3\\lib\\site-packages\\h5py\\__init__.py:36: FutureWarning: Conversion of the second argument of issubdtype from `float` to `np.floating` is deprecated. In future, it will be treated as `np.float64 == np.dtype(float).type`.\n",
      "  from ._conv import register_converters as _register_converters\n"
     ]
    }
   ],
   "source": [
    "import tensorflow as tf"
   ]
  },
  {
   "cell_type": "code",
   "execution_count": 2,
   "metadata": {},
   "outputs": [
    {
     "name": "stdout",
     "output_type": "stream",
     "text": [
      "2\n"
     ]
    }
   ],
   "source": [
    "a = tf.constant(2)\n",
    "b = tf.constant(3)\n",
    "x = tf.add(a,b)\n",
    "\n",
    "with tf.Session() as sess:\n",
    "    print(sess.run(a))"
   ]
  },
  {
   "cell_type": "markdown",
   "metadata": {},
   "source": [
    "tensorflow 프로그램을 시각화하기 위해서, 우리는 프로그램의 log file을 생성해야 한다.\n",
    "event file을 생성하기 위해서는 다음과 같은 코드를 통해 log에 대한 writer를 만들어야 한다."
   ]
  },
  {
   "cell_type": "code",
   "execution_count": 6,
   "metadata": {},
   "outputs": [
    {
     "data": {
      "text/plain": [
       "'writer = tf.summary.FileWriter([logdir], [graph])'"
      ]
     },
     "execution_count": 6,
     "metadata": {},
     "output_type": "execute_result"
    }
   ],
   "source": [
    "'''writer = tf.summary.FileWriter([logdir], [graph])'''\n",
    "#'graph' 는 프로그램이 동작하는 그래프를 지정한다. 보통은 tf.get_default_graph()로 기본 그래프를 지정하면 된다.\n",
    "#'logdir' 은 log file이 저장될 위치를 지정한다."
   ]
  },
  {
   "cell_type": "markdown",
   "metadata": {},
   "source": [
    "\n",
    "\n"
   ]
  },
  {
   "cell_type": "code",
   "execution_count": 9,
   "metadata": {},
   "outputs": [
    {
     "name": "stdout",
     "output_type": "stream",
     "text": [
      "5\n"
     ]
    }
   ],
   "source": [
    "a = tf.constant(2)\n",
    "b = tf.constant(3)\n",
    "x = tf.add(a,b)\n",
    "writer = tf.summary.FileWriter('/Users/home/cs20_v2/week2/graphs', tf.get_default_graph())\n",
    "\n",
    "with tf.Session() as sess:\n",
    "    # writer = tf.summary.FileWriter('./graphs', sess.graph)\n",
    "    # if you prefer creating your writer using session's graph\n",
    "    print(sess.run(x))\n",
    "writer.close()"
   ]
  },
  {
   "cell_type": "markdown",
   "metadata": {},
   "source": [
    "log file이 생성되었으면, 터미널로 이동해서 텐서보드를 실행시킨다.\n",
    "\n",
    "$tensorboard --logdir 'logdir' --port 6006"
   ]
  },
  {
   "cell_type": "markdown",
   "metadata": {},
   "source": [
    "텐서보드 페이지로 이동하게 되면 두 개의 constant와 하나의 add op, 즉 세 개의 node를 볼 수 있다. "
   ]
  },
  {
   "attachments": {
    "image.png": {
     "image/png": "[encoded data removed]"
    }
   },
   "cell_type": "markdown",
   "metadata": {},
   "source": [
    "![image.png](attachment:image.png)"
   ]
  },
  {
   "cell_type": "markdown",
   "metadata": {},
   "source": [
    "const 과 const_1는 각각 a와 b를 말하고 있다. 여기서 이 constant의 이름을 명시하고 싶으면 다음과 같이 constant를 정의해야 한다."
   ]
  },
  {
   "cell_type": "code",
   "execution_count": null,
   "metadata": {},
   "outputs": [],
   "source": [
    "a = tf.constant(2, name='a')\n",
    "b = tf.constant(3, name='b')\n",
    "x = tf.add(a,b, name='add')"
   ]
  },
  {
   "cell_type": "markdown",
   "metadata": {},
   "source": [
    "## Constnat op"
   ]
  },
  {
   "cell_type": "code",
   "execution_count": null,
   "metadata": {},
   "outputs": [],
   "source": [
    "#Tensors filled with a specific value\n",
    "c = tf.constant([0,1], [2,3], name='maxtrix') #tf.constant(value, dtype=None, shape=None, name='Const', verify_shape=False)\n",
    "d = tf.zeros([2,3], dtype=tf.int32) #tf.zeros(shape, dtype=tf.float32, name=None)\n",
    "#tf.zeros_like(input_tensor, dtype=None, name=None, optimize=True), 특정 tensor의 shape 과 동일한 shape의 0 tensor 생성\n",
    "input_tensor = tf.constant([[0, 1], [2, 3], [4, 5]])\n",
    "e = tf.zeros_like(input_tensor)\n",
    "f = tf.ones([2,3], dtype=tf.int32) #tf.ones(shape, dtype=tf.float32, name=None)\n",
    "g = tf.ones_like(input_tensor)\n",
    "h = tf.fill([2,3], 8)\n",
    "\n",
    "#Constants as sequences\n",
    "i = tf.lin_space(10.0, 13.0, 4) #tf.lin_space(start, stop, num, name=None) ==> [10.0 11.0 12.0 13.0]\n",
    "#tf.range([start], limit=None, delta=1, dtype=None, name='range')\n",
    "j = tf.range(3,18, 3) # ==> [3, 6, 9, 12, 15]\n",
    "k = tf.range(5) # ==> [0, 1, 2, 3, 4]"
   ]
  },
  {
   "cell_type": "markdown",
   "metadata": {},
   "source": [
    "특정한 분포에서 random constant를 생성할 수도 있다.\n",
    "\n",
    "* tf.random_normal\n",
    "* tf.truncated_normal\n",
    "* tf.random_uniform\n",
    "* tf.random_shuffle\n",
    "* tf.random_crop\n",
    "* tf.multinomial\n",
    "* tf.random_gamma\n",
    "* tf.set_random_seed"
   ]
  },
  {
   "cell_type": "markdown",
   "metadata": {},
   "source": [
    "기본적인 산수 연산을 제공한다.\n",
    "* tf.abs\n",
    "* tf.negative\n",
    "* tf.sign\n",
    "* tf.reciprocal\n",
    "* tf.square\n",
    "* tf.round\n",
    "* tf.sqrt\n",
    "* tf.rsqrt\n",
    "* tf.pow\n",
    "* tf.exp"
   ]
  },
  {
   "cell_type": "markdown",
   "metadata": {},
   "source": [
    "텐서플로우에서는 다양한 data type을 제공하고 있다. TF 데이터 타입은 Numpy와 같다고 볼 수 있다.\n",
    "하지만 텐서플로를 사용할 때는 가능한 TF 데이터 타입을 사용하는 것이 좋다."
   ]
  },
  {
   "cell_type": "code",
   "execution_count": 1,
   "metadata": {},
   "outputs": [
    {
     "name": "stderr",
     "output_type": "stream",
     "text": [
      "C:\\Users\\home\\Anaconda3\\lib\\site-packages\\h5py\\__init__.py:36: FutureWarning: Conversion of the second argument of issubdtype from `float` to `np.floating` is deprecated. In future, it will be treated as `np.float64 == np.dtype(float).type`.\n",
      "  from ._conv import register_converters as _register_converters\n"
     ]
    },
    {
     "data": {
      "text/plain": [
       "True"
      ]
     },
     "execution_count": 1,
     "metadata": {},
     "output_type": "execute_result"
    }
   ],
   "source": [
    "import tensorflow as tf\n",
    "import numpy as np\n",
    "tf.int32 == np.int32"
   ]
  },
  {
   "cell_type": "markdown",
   "metadata": {},
   "source": [
    "그렇다면 constant(상수)란 무엇일까?\n",
    "\n",
    "constant는 그래프의 정의 안에 저장된 값이라고 볼 수 있다.(constant are stored in the graph definition)\n",
    "\n",
    "constant를 사용하는 데 문제점이 있다. constant의 값이 클 경우, graph를 loading하는데 많은 시간이 걸리게 된다. \n",
    "따라서 constant는 primitive types에만 사용을 하고, 많은 메모리를 필요로하는 값은 variable이나 readers를 사용하는 것이 좋다."
   ]
  },
  {
   "cell_type": "markdown",
   "metadata": {},
   "source": [
    "## Variable"
   ]
  },
  {
   "cell_type": "code",
   "execution_count": 11,
   "metadata": {},
   "outputs": [],
   "source": [
    "#create variables with tf.Variable\n",
    "s = tf.Variable(2, name='scalar')\n",
    "m = tf.Variable([[0,1],[2,3]], name='martix')\n",
    "W = tf.Variable(tf.zeros([784,10]))\n",
    "\n",
    "# create variables with tf.get_variable\n",
    "s = tf.get_variable('scalar_2', initializer=tf.constant(2))\n",
    "m = tf.get_variable('matrix_2', initializer=tf.constant([[0, 1], [2, 3]]))\n",
    "W = tf.get_variable('big_matrix', shape=(784,10), initializer=tf.zeros_initializer())"
   ]
  },
  {
   "cell_type": "markdown",
   "metadata": {},
   "source": [
    "여기서 tf.constant와 tf.Variable의 큰 차이점이 있다.\n",
    "\n",
    "tf.constant는 하나의 op이지만, tf.Variable는 많은 ops들로 구성된 class라는 점이다."
   ]
  },
  {
   "cell_type": "code",
   "execution_count": 10,
   "metadata": {},
   "outputs": [],
   "source": [
    "x = tf.Variable(2, name='x')\n",
    "\n",
    "#x.initializer # init op\n",
    "#x.value() # read op\n",
    "#x.assign(...) # write op\n",
    "#x.assign_add(...) # and more"
   ]
  },
  {
   "cell_type": "markdown",
   "metadata": {},
   "source": [
    "변수를 사용하기 위해서는 먼저 initialize 과정을 해야 사용할 수 있다.\n",
    "해당 과정을 하지 않으면,  'FailedPreconditionError' 이 뜨면서 실행이 되지 않는다."
   ]
  },
  {
   "cell_type": "code",
   "execution_count": null,
   "metadata": {},
   "outputs": [],
   "source": [
    "#The easiest way is initializing all variables at once:\n",
    "with tf.Session() as sess:\n",
    "    sess.run(tf.global_variables_initializer()) #initialize 과정도 하나의 op이므로, 세션에서 실행시켜주어야 한다.\n",
    "    sess.run(tf.initialize_variables([s,m])) #Initialize only a subset of variables\n",
    "    sess.run(W.initializer()) #Initialize a single variable"
   ]
  },
  {
   "cell_type": "markdown",
   "metadata": {},
   "source": [
    "### eval a variable\n",
    "\n",
    "변수를 출력하기 위한 명렁어인 eval()이 있다."
   ]
  },
  {
   "cell_type": "code",
   "execution_count": 14,
   "metadata": {},
   "outputs": [
    {
     "name": "stdout",
     "output_type": "stream",
     "text": [
      "<tf.Variable 'Variable_1:0' shape=(700, 10) dtype=float32_ref>\n",
      "[[-0.06490973 -0.03819519  0.3018671  ... -0.7806528  -0.03842064\n",
      "  -0.7558326 ]\n",
      " [ 1.2640233  -1.0096376   0.36251268 ... -0.22079319  0.5611361\n",
      "  -0.06223309]\n",
      " [ 1.0386921  -0.8279699  -1.374303   ... -0.17972356 -0.12818637\n",
      "  -1.0195895 ]\n",
      " ...\n",
      " [-0.61905265  0.5914723  -0.4435951  ...  0.03848564  0.7948613\n",
      "   0.783635  ]\n",
      " [-0.43160832 -0.9113987  -0.8774088  ...  0.2580037  -0.34540117\n",
      "   0.59399605]\n",
      " [-0.4521617  -0.24454848  0.88255906 ... -0.22670662 -0.7543505\n",
      "   1.2218344 ]]\n"
     ]
    }
   ],
   "source": [
    "# W is a random 700 x 100 variable object\n",
    "W = tf.Variable(tf.truncated_normal([700, 10]))\n",
    "with tf.Session() as sess:\n",
    "    sess.run(W.initializer)\n",
    "    print(W)\n",
    "    print(W.eval()) # print(sess.run(W))와 같음."
   ]
  },
  {
   "cell_type": "code",
   "execution_count": 26,
   "metadata": {},
   "outputs": [
    {
     "name": "stdout",
     "output_type": "stream",
     "text": [
      "10\n",
      "100\n"
     ]
    }
   ],
   "source": [
    "#tf.Variable.assign \n",
    "W = tf.Variable(10)\n",
    "assign_op = W.assign(100)\n",
    "with tf.Session() as sess:\n",
    "    sess.run(W.initializer)\n",
    "    print(W.eval())\n",
    "\n",
    "#출력은 100이 아닌 10이 되게 된다. assign 연산을 정의만 하고 실행하지 않았기 때문이다.\n",
    "    sess.run(assign_op)\n",
    "    print(W.eval())"
   ]
  },
  {
   "cell_type": "code",
   "execution_count": 28,
   "metadata": {},
   "outputs": [
    {
     "name": "stdout",
     "output_type": "stream",
     "text": [
      "4\n",
      "8\n",
      "16\n"
     ]
    }
   ],
   "source": [
    "# create a variable whose original value is 2\n",
    "my_var = tf.Variable(2, name=\"my_var\") \n",
    "\n",
    "# assign a * 2 to a and call that op a_times_two\n",
    "my_var_times_two = my_var.assign(2 * my_var)\n",
    "\n",
    "with tf.Session() as sess:\n",
    "    sess.run(my_var.initializer)\n",
    "    print(sess.run(my_var_times_two))\n",
    "    print(sess.run(my_var_times_two))\n",
    "    print(sess.run(my_var_times_two))"
   ]
  },
  {
   "cell_type": "code",
   "execution_count": 29,
   "metadata": {},
   "outputs": [
    {
     "data": {
      "text/plain": [
       "\"\\ng = tf.get_default_graph()\\nwith g.control_dependencies([a, b, c]):\\n    # 'd' and 'e' will only run after 'a', 'b', and 'c' have executed.\\n    d = ...\\n    e = …\\n\""
      ]
     },
     "execution_count": 29,
     "metadata": {},
     "output_type": "execute_result"
    }
   ],
   "source": [
    "#Control Dependencies\n",
    "#tf.Graph.control_dependencies(control_inputs), 실행의 우선 순위를 선정할 수 있다.\n",
    "\n",
    "# your graph g have 5 ops: a, b, c, d, e\n",
    "'''\n",
    "g = tf.get_default_graph()\n",
    "with g.control_dependencies([a, b, c]):\n",
    "    # 'd' and 'e' will only run after 'a', 'b', and 'c' have executed.\n",
    "    d = ...\n",
    "    e = …\n",
    "'''"
   ]
  },
  {
   "cell_type": "markdown",
   "metadata": {},
   "source": [
    "## Placeholder"
   ]
  },
  {
   "cell_type": "markdown",
   "metadata": {},
   "source": [
    "텐서플로는 앞서 본 것 처럼 두가지 과정으로 실행된다.\n",
    "\n",
    "    1. 그래프를 조합한다.\n",
    "    2. 세션을 사용해서 그래프의 연산을 수행한다.\n",
    "    \n",
    "첫번째 그래프를 과정에서 연산해야할 값이 무엇인지는 알지 못하고 그래프를 먼저 조합하게(asseble)된다.\n",
    "\n",
    "$f(x) = 2*x + y$ 에서 우리는 x와 y값이 무엇인지 알고 있지 않다. 즉, 실제 값이 들어가게 되는 x와 y를 placeholder로 정의하게 된다."
   ]
  },
  {
   "cell_type": "markdown",
   "metadata": {},
   "source": [
    "placeholder를 사용하기 위해서는 dictionary를 사용하여 세션에서 값을 넣어주면(supply) 된다.\n",
    "\n",
    "이때 placeholder를 선언할 때, shape을 지정하지 않아도 feed_dict의 shape을 자동으로 받아드리게 된다.\n",
    "하지만 디버깅 등의 작업을 위해 shape을 선언해 주는 것이 좋다."
   ]
  },
  {
   "cell_type": "code",
   "execution_count": 81,
   "metadata": {},
   "outputs": [
    {
     "name": "stdout",
     "output_type": "stream",
     "text": [
      "[6. 7. 8.]\n",
      "[6. 7. 8.]\n",
      "[6. 7. 8.]\n"
     ]
    }
   ],
   "source": [
    "a = tf.placeholder(tf.float32, shape=[3])\n",
    "b = tf.constant([5,5,5], dtype=tf.float32)\n",
    "c = a+b\n",
    "\n",
    "with tf.Session() as sess:\n",
    "    print(sess.run(c, feed_dict={a: [1,2,3]})) #dic 형태이므로 a는 string이 아니고 a Tensor을 가리킨다."
   ]
  },
  {
   "cell_type": "markdown",
   "metadata": {},
   "source": [
    "여러개의 data point를 feed 하고 싶을 경우에도 하나씩 feed 될 수 있도록 해야한다."
   ]
  },
  {
   "cell_type": "code",
   "execution_count": 85,
   "metadata": {},
   "outputs": [
    {
     "name": "stdout",
     "output_type": "stream",
     "text": [
      "[6. 7. 8.]\n",
      "[6. 7. 8.]\n",
      "[6. 7. 8.]\n"
     ]
    }
   ],
   "source": [
    "a = tf.placeholder(tf.float32, shape=[3])\n",
    "list_a = [[1,2,3], [1,2,3], [1,2,3]]\n",
    "b = tf.constant([5,5,5], dtype=tf.float32)\n",
    "c = a+b\n",
    "\n",
    "with tf.Session() as sess:\n",
    "    for a_value in list_a:\n",
    "        #print(a_value)\n",
    "        print(sess.run(c, feed_dict={a: a_value}))"
   ]
  },
  {
   "cell_type": "code",
   "execution_count": null,
   "metadata": {},
   "outputs": [],
   "source": []
  }
 ],
 "metadata": {
  "kernelspec": {
   "display_name": "Python 3",
   "language": "python",
   "name": "python3"
  },
  "language_info": {
   "codemirror_mode": {
    "name": "ipython",
    "version": 3
   },
   "file_extension": ".py",
   "mimetype": "text/x-python",
   "name": "python",
   "nbconvert_exporter": "python",
   "pygments_lexer": "ipython3",
   "version": "3.6.5"
  }
 },
 "nbformat": 4,
 "nbformat_minor": 2
}
