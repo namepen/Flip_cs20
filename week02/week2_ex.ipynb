{
 "cells": [
  {
   "cell_type": "markdown",
   "metadata": {},
   "source": [
    "# Linear Regression\n",
    "\n",
    "* y와 한 개 이상의 독립 변수 (또는 설명 변수) X와의 선형 상관 관계를 모델링하는 회귀분석 기법이다. 한 개의 설명 변수에 기반한 경우에는 단순 선형 회귀, 둘 이상의 설명 변수에 기반한 경우에는 다중 선형 회귀라고 한다. [참고: 위키피디아](https://ko.wikipedia.org/wiki/선형_회귀)\n",
    "\n",
    "$$y_{\\textrm{pred}} = \\boldsymbol{W}^{\\top}\\boldsymbol{x} + b$$\n",
    "\n",
    "* $\\boldsymbol{x} = [x_{1}, x_{2}, \\cdots, x_{d}]$\n",
    "* $\\boldsymbol{W} = [w_{1}, w_{2}, \\cdots, w_{d}]$\n",
    "* Loss function: $\\mathcal{L} = \\sum^{N} (y_{\\textrm{pred}} - y)^{2}$"
   ]
  },
  {
   "cell_type": "markdown",
   "metadata": {},
   "source": [
    "## Training Pseudo Code\n",
    "\n",
    "```python\n",
    "for epoch in max_epochs: # 1 epoch: 모든 데이터(N)를 한번 학습 시켰을 때\n",
    "  for step in num_batches: # num_batches = int(data_size / batch_size)\n",
    "    1. sampling mini-batches with batch_size\n",
    "      1-1. data augmentation (필요하면)\n",
    "    2. calculate loss\n",
    "    3. calculate loss using logits and labels\n",
    "    3. calculate the gradient with respect to weights\n",
    "    4. update weights\n",
    "```"
   ]
  },
  {
   "cell_type": "code",
   "execution_count": 1,
   "metadata": {},
   "outputs": [
    {
     "name": "stderr",
     "output_type": "stream",
     "text": [
      "C:\\Users\\user\\Anaconda3\\lib\\site-packages\\h5py\\__init__.py:36: FutureWarning: Conversion of the second argument of issubdtype from `float` to `np.floating` is deprecated. In future, it will be treated as `np.float64 == np.dtype(float).type`.\n",
      "  from ._conv import register_converters as _register_converters\n",
      "C:\\Users\\user\\Anaconda3\\lib\\site-packages\\requests\\__init__.py:80: RequestsDependencyWarning: urllib3 (1.23) or chardet (3.0.4) doesn't match a supported version!\n",
      "  RequestsDependencyWarning)\n"
     ]
    }
   ],
   "source": [
    "import numpy as np\n",
    "import matplotlib.pyplot as plt\n",
    "%matplotlib inline\n",
    "\n",
    "import tensorflow as tf\n",
    "\n",
    "sess_config = tf.ConfigProto(gpu_options=tf.GPUOptions(allow_growth=True))\n",
    "\n",
    "tf.set_random_seed(219)\n",
    "np.random.seed(219)"
   ]
  },
  {
   "cell_type": "code",
   "execution_count": 2,
   "metadata": {},
   "outputs": [],
   "source": [
    "_a = 3\n",
    "_b = -3\n",
    "N = 200\n",
    "data_X = np.random.uniform(low=0, high=5, size=N) #uniform 분포 : 균등 분포\n",
    "data_y = _a * data_X + _b + np.random.normal(0, 2, N)"
   ]
  },
  {
   "cell_type": "code",
   "execution_count": 11,
   "metadata": {},
   "outputs": [
    {
     "data": {
      "text/plain": [
       "200"
      ]
     },
     "execution_count": 11,
     "metadata": {},
     "output_type": "execute_result"
    }
   ],
   "source": [
    "len(data_X)"
   ]
  },
  {
   "cell_type": "code",
   "execution_count": 3,
   "metadata": {},
   "outputs": [
    {
     "data": {
      "text/plain": [
       "array([34, 93, 91, 37, 40, 67, 69, 75, 76, 57, 61, 70, 94, 70, 90, 31, 90,\n",
       "       41, 14, 45, 70, 11, 81, 57, 52, 46, 72, 27, 87, 39, 96, 66, 60,  2,\n",
       "       70, 77,  9, 76, 92, 95, 37,  9, 29, 27, 35,  7, 19, 73, 78, 56, 62,\n",
       "       22, 25,  1, 57,  7, 21, 63, 82, 30, 13, 23,  5, 59, 51, 54, 34, 58,\n",
       "       35, 32, 17, 83,  4, 32, 54, 42, 25, 25, 51, 42, 28, 32, 42, 69, 83,\n",
       "       15,  1, 54, 61,  1, 11, 35, 28, 38, 28, 32, 86,  5, 69, 77])"
      ]
     },
     "execution_count": 3,
     "metadata": {},
     "output_type": "execute_result"
    }
   ],
   "source": [
    "np.random.shuffle()"
   ]
  },
  {
   "cell_type": "code",
   "execution_count": 4,
   "metadata": {},
   "outputs": [
    {
     "data": {
      "image/png": "[encoded data removed]",
      "text/plain": [
       "<Figure size 432x288 with 1 Axes>"
      ]
     },
     "metadata": {},
     "output_type": "display_data"
    }
   ],
   "source": [
    "plt.plot(data_X, data_y, 'ro')\n",
    "plt.axhline(0, color='black', lw=1)\n",
    "plt.axvline(0, color='black', lw=1)\n",
    "plt.show()"
   ]
  },
  {
   "cell_type": "markdown",
   "metadata": {},
   "source": [
    "### Create placeholders for inputs and labels"
   ]
  },
  {
   "cell_type": "code",
   "execution_count": 5,
   "metadata": {},
   "outputs": [],
   "source": [
    "# 여기를 직접 채워넣으시면 됩니다.\n",
    "# X: inputs\n",
    "x = tf.placeholder(name='x', dtype= tf.float32, shape=[])\n",
    "\n",
    "# y: labels\n",
    "y = tf.placeholder(name='y', dtype=tf.float32, shape=[])"
   ]
  },
  {
   "cell_type": "markdown",
   "metadata": {},
   "source": [
    "### Create weight and bias"
   ]
  },
  {
   "cell_type": "code",
   "execution_count": 6,
   "metadata": {},
   "outputs": [],
   "source": [
    "# create Variables\n",
    "W = tf.get_variable(name='W', initializer=tf.constant(.0))\n",
    "b = tf.get_variable(name='b', initializer=tf.constant(.0))"
   ]
  },
  {
   "cell_type": "markdown",
   "metadata": {},
   "source": [
    "#### Build a model: $y = Wx + b$"
   ]
  },
  {
   "cell_type": "code",
   "execution_count": 7,
   "metadata": {},
   "outputs": [],
   "source": [
    "with tf.variable_scope(name_or_scope='y_pred'):\n",
    "    y_pred = x * W + b"
   ]
  },
  {
   "cell_type": "code",
   "execution_count": null,
   "metadata": {},
   "outputs": [],
   "source": [
    "### Define loss function"
   ]
  },
  {
   "cell_type": "code",
   "execution_count": null,
   "metadata": {},
   "outputs": [],
   "source": [
    "lo1 = tf.square(y-y_pred)\n",
    "lo2 = np.square(y-y_pred)\n",
    "lo3 = (y-y_pred)**2"
   ]
  },
  {
   "cell_type": "code",
   "execution_count": null,
   "metadata": {},
   "outputs": [],
   "source": [
    "print(lo1)\n",
    "print(lo2)\n",
    "print(lo3)"
   ]
  },
  {
   "cell_type": "code",
   "execution_count": 8,
   "metadata": {},
   "outputs": [],
   "source": [
    "loss = tf.reduce_mean(np.square(y-y_pred))"
   ]
  },
  {
   "cell_type": "code",
   "execution_count": null,
   "metadata": {},
   "outputs": [],
   "source": [
    "### Create a optimizer"
   ]
  },
  {
   "cell_type": "code",
   "execution_count": 9,
   "metadata": {},
   "outputs": [],
   "source": [
    "train_op = tf.train.GradientDescentOptimizer(learning_rate=0.001).minimize(loss)"
   ]
  },
  {
   "cell_type": "code",
   "execution_count": null,
   "metadata": {},
   "outputs": [],
   "source": [
    "## Phase 2. Train a model"
   ]
  },
  {
   "cell_type": "code",
   "execution_count": null,
   "metadata": {},
   "outputs": [],
   "source": [
    "### Train a model"
   ]
  },
  {
   "cell_type": "code",
   "execution_count": 13,
   "metadata": {},
   "outputs": [
    {
     "name": "stdout",
     "output_type": "stream",
     "text": [
      "Epoch 0: total_loss: 13.293877\n",
      "train_ops :  None\n",
      "Epoch 10: total_loss: 5.115731\n",
      "train_ops :  None\n",
      "Epoch 20: total_loss: 4.626248\n",
      "train_ops :  None\n",
      "Epoch 30: total_loss: 4.555735\n",
      "train_ops :  None\n",
      "Epoch 40: total_loss: 4.483544\n",
      "train_ops :  None\n",
      "Epoch 50: total_loss: 4.536646\n",
      "train_ops :  None\n",
      "Epoch 60: total_loss: 4.519947\n",
      "train_ops :  None\n",
      "Epoch 70: total_loss: 4.526045\n",
      "train_ops :  None\n",
      "Epoch 80: total_loss: 4.540533\n",
      "train_ops :  None\n",
      "Epoch 90: total_loss: 4.519049\n",
      "train_ops :  None\n",
      "Epoch 100: total_loss: 4.529721\n",
      "train_ops :  None\n",
      "training done!\n"
     ]
    }
   ],
   "source": [
    "with tf.Session(config=sess_config) as sess:\n",
    "  # Initialize all variables\n",
    "  sess.run(tf.global_variables_initializer())\n",
    "  \n",
    "  writer = tf.summary.FileWriter('graphs/01_linear_reg', sess.graph)\n",
    "  writer.close()\n",
    "  \n",
    "  # train the model\n",
    "  max_epochs = 100\n",
    "  total_losses = []\n",
    "  for epoch in range(max_epochs+1):\n",
    "    total_loss = 0.0\n",
    "\n",
    "    # 모든 데이터를 random하게 섞는다.\n",
    "    shuffle_index = np.random.permutation(len(data_X))\n",
    "    \n",
    "    for i in shuffle_index:\n",
    "      x_ = data_X[i]\n",
    "      y_ = data_y[i]\n",
    "      # `sess.run` 부분을 직접 채워넣으시면 됩니다.\n",
    "      _, loss_ = sess.run(fetches = [train_op, loss], feed_dict = {x:x_,y:y_})\n",
    "      total_loss += loss_\n",
    "      \n",
    "    total_loss /= len(data_X)\n",
    "    total_losses.append(total_loss)\n",
    "    \n",
    "    if epoch % 10 == 0:\n",
    "      print('Epoch %d: total_loss: %f' % (epoch, total_loss))\n",
    "      \n",
    "  print('training done!')\n",
    "      \n",
    "  W_, b_ = sess.run([W, b])"
   ]
  },
  {
   "cell_type": "code",
   "execution_count": null,
   "metadata": {},
   "outputs": [],
   "source": []
  }
 ],
 "metadata": {
  "kernelspec": {
   "display_name": "Python 3",
   "language": "python",
   "name": "python3"
  },
  "language_info": {
   "codemirror_mode": {
    "name": "ipython",
    "version": 3
   },
   "file_extension": ".py",
   "mimetype": "text/x-python",
   "name": "python",
   "nbconvert_exporter": "python",
   "pygments_lexer": "ipython3",
   "version": "3.6.5"
  }
 },
 "nbformat": 4,
 "nbformat_minor": 2
}
