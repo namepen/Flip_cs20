{
 "cells": [
  {
   "cell_type": "markdown",
   "metadata": {},
   "source": [
    "# MNIST convolutional neural networks with slim\n",
    "\n",
    "* MNIST data를 가지고 softmax classifier를 만들어보자.\n",
    "* [`tf.contrib.slim`](https://github.com/tensorflow/tensorflow/tree/master/tensorflow/contrib/slim) 참고"
   ]
  },
  {
   "cell_type": "markdown",
   "metadata": {},
   "source": [
    "### Import modules"
   ]
  },
  {
   "cell_type": "code",
   "execution_count": 1,
   "metadata": {},
   "outputs": [],
   "source": [
    "\"\"\"A LeNet-5 like cnn MNIST classifier.\n",
    "\"\"\"\n",
    "from __future__ import absolute_import\n",
    "from __future__ import division\n",
    "from __future__ import print_function\n",
    "\n",
    "import time\n",
    "import numpy as np\n",
    "import matplotlib.pyplot as plt\n",
    "%matplotlib inline\n",
    "\n",
    "import tensorflow as tf\n",
    "\n",
    "slim = tf.contrib.slim\n",
    "\n",
    "sess_config = tf.ConfigProto(gpu_options=tf.GPUOptions(allow_growth=True))\n",
    "\n",
    "np.random.seed(219)\n",
    "tf.set_random_seed(219)"
   ]
  },
  {
   "cell_type": "markdown",
   "metadata": {},
   "source": [
    "### Import data"
   ]
  },
  {
   "cell_type": "code",
   "execution_count": 2,
   "metadata": {},
   "outputs": [],
   "source": [
    "# Load training and eval data from tf.keras\n",
    "(train_data, train_labels), (test_data, test_labels) = \\\n",
    "    tf.keras.datasets.mnist.load_data()\n",
    "\n",
    "train_data = train_data / 255.\n",
    "train_labels = np.asarray(train_labels, dtype=np.int32)\n",
    "\n",
    "test_data = test_data / 255.\n",
    "test_labels = np.asarray(test_labels, dtype=np.int32)"
   ]
  },
  {
   "cell_type": "markdown",
   "metadata": {},
   "source": [
    "### Show the MNIST"
   ]
  },
  {
   "cell_type": "code",
   "execution_count": 3,
   "metadata": {},
   "outputs": [
    {
     "name": "stdout",
     "output_type": "stream",
     "text": [
      "label = 3\n"
     ]
    },
    {
     "data": {
      "image/png": "[encoded data removed]",
      "text/plain": [
       "<Figure size 432x288 with 1 Axes>"
      ]
     },
     "metadata": {},
     "output_type": "display_data"
    }
   ],
   "source": [
    "index = 500\n",
    "print(\"label = {}\".format(train_labels[index]))\n",
    "plt.imshow(train_data[index].reshape(28, 28), cmap='gray')\n",
    "plt.show()"
   ]
  },
  {
   "cell_type": "markdown",
   "metadata": {},
   "source": [
    "### Set up dataset with `tf.data`\n",
    "\n",
    "#### create input pipeline with `tf.data.Dataset`"
   ]
  },
  {
   "cell_type": "code",
   "execution_count": 4,
   "metadata": {},
   "outputs": [
    {
     "name": "stdout",
     "output_type": "stream",
     "text": [
      "<BatchDataset shapes: ((?, 28, 28), (?,)), types: (tf.float64, tf.int32)>\n",
      "<BatchDataset shapes: ((?, 28, 28), (?,)), types: (tf.float64, tf.int32)>\n"
     ]
    }
   ],
   "source": [
    "batch_size = 32\n",
    "\n",
    "# for train\n",
    "train_dataset = tf.data.Dataset.from_tensor_slices((train_data, train_labels))\n",
    "train_dataset = train_dataset.shuffle(buffer_size = 10000)\n",
    "train_dataset = train_dataset.batch(batch_size = batch_size)\n",
    "print(train_dataset)\n",
    "\n",
    "# for test\n",
    "test_dataset = tf.data.Dataset.from_tensor_slices((test_data, test_labels))\n",
    "test_dataset = test_dataset.shuffle(buffer_size = 10000)\n",
    "test_dataset = test_dataset.batch(batch_size = len(test_data))\n",
    "print(test_dataset)"
   ]
  },
  {
   "cell_type": "markdown",
   "metadata": {},
   "source": [
    "#### Define Iterator"
   ]
  },
  {
   "cell_type": "code",
   "execution_count": 5,
   "metadata": {},
   "outputs": [],
   "source": [
    "# tf.data.Iterator.from_string_handle의 output_shapes는 default = None이지만 꼭 값을 넣는 게 좋음\n",
    "handle = tf.placeholder(tf.string, shape=[])\n",
    "iterator = tf.data.Iterator.from_string_handle(handle,\n",
    "                                               train_dataset.output_types,\n",
    "                                               train_dataset.output_shapes)\n",
    "x, y = iterator.get_next()\n",
    "x = tf.cast(x, dtype = tf.float32)\n",
    "y = tf.cast(y, dtype = tf.int32)"
   ]
  },
  {
   "cell_type": "markdown",
   "metadata": {},
   "source": [
    "## `tf.contrib.slim`\n",
    "\n",
    "```python\n",
    "from __future__ import absolute_import\n",
    "from __future__ import division\n",
    "from __future__ import print_function\n",
    "\n",
    "# pylint: disable=unused-import,line-too-long,g-importing-member,wildcard-import\n",
    "# TODO(jart): Delete non-slim imports\n",
    "from tensorflow.contrib import losses\n",
    "from tensorflow.contrib import metrics\n",
    "from tensorflow.contrib.framework.python.ops.arg_scope import *\n",
    "from tensorflow.contrib.framework.python.ops.variables import *\n",
    "from tensorflow.contrib.layers.python.layers import *\n",
    "from tensorflow.contrib.layers.python.layers.initializers import *\n",
    "from tensorflow.contrib.layers.python.layers.regularizers import *\n",
    "from tensorflow.contrib.slim.python.slim import evaluation\n",
    "from tensorflow.contrib.slim.python.slim import learning\n",
    "from tensorflow.contrib.slim.python.slim import model_analyzer\n",
    "from tensorflow.contrib.slim.python.slim import queues\n",
    "from tensorflow.contrib.slim.python.slim import summaries\n",
    "from tensorflow.contrib.slim.python.slim.data import data_decoder\n",
    "from tensorflow.contrib.slim.python.slim.data import data_provider\n",
    "from tensorflow.contrib.slim.python.slim.data import dataset\n",
    "from tensorflow.contrib.slim.python.slim.data import dataset_data_provider\n",
    "from tensorflow.contrib.slim.python.slim.data import parallel_reader\n",
    "from tensorflow.contrib.slim.python.slim.data import prefetch_queue\n",
    "from tensorflow.contrib.slim.python.slim.data import tfexample_decoder\n",
    "from tensorflow.python.util.all_util import make_all\n",
    "# pylint: enable=unused-import,line-too-long,g-importing-member,wildcard-import\n",
    "\n",
    "__all__ = make_all(__name__)\n",
    "```"
   ]
  },
  {
   "cell_type": "markdown",
   "metadata": {},
   "source": [
    "### Difference between [`tf.layers`](https://www.tensorflow.org/api_docs/python/tf/layers) and [`tf.contrib.layers`](https://www.tensorflow.org/api_docs/python/tf/contrib/layers)\n",
    "\n",
    "#### [`tf.layers.conv2d()`](https://www.tensorflow.org/api_docs/python/tf/layers/conv2d)\n",
    "```python\n",
    "tf.layers.conv2d(\n",
    "    inputs,\n",
    "    filters,\n",
    "    kernel_size,\n",
    "    strides=(1, 1),\n",
    "    padding='valid',\n",
    "    data_format='channels_last',\n",
    "    dilation_rate=(1, 1),\n",
    "    activation=None,\n",
    "    use_bias=True,\n",
    "    kernel_initializer=None,\n",
    "    bias_initializer=tf.zeros_initializer(),\n",
    "    kernel_regularizer=None,\n",
    "    bias_regularizer=None,\n",
    "    activity_regularizer=None,\n",
    "    kernel_constraint=None,\n",
    "    bias_constraint=None,\n",
    "    trainable=True,\n",
    "    name=None,\n",
    "    reuse=None\n",
    ")\n",
    "```\n",
    "\n",
    "#### [`slim.conv2d()`](https://www.tensorflow.org/api_docs/python/tf/contrib/layers/conv2d)\n",
    "```python\n",
    "tf.contrib.layers.conv2d(\n",
    "    inputs,\n",
    "    num_outputs,\n",
    "    kernel_size,\n",
    "    stride=1,\n",
    "    padding='SAME',\n",
    "    data_format=None,\n",
    "    rate=1,\n",
    "    activation_fn=tf.nn.relu,\n",
    "    normalizer_fn=None,\n",
    "    normalizer_params=None,\n",
    "    weights_initializer=initializers.xavier_initializer(),\n",
    "    weights_regularizer=None,\n",
    "    biases_initializer=tf.zeros_initializer(),\n",
    "    biases_regularizer=None,\n",
    "    reuse=None,\n",
    "    variables_collections=None,\n",
    "    outputs_collections=None,\n",
    "    trainable=True,\n",
    "    scope=None\n",
    ")\n",
    "```"
   ]
  },
  {
   "cell_type": "markdown",
   "metadata": {},
   "source": [
    "### Create the model"
   ]
  },
  {
   "cell_type": "code",
   "execution_count": 6,
   "metadata": {},
   "outputs": [],
   "source": [
    "def cnn_model_fn(x):\n",
    "  \"\"\"Model function for CNN.\n",
    "  Args:\n",
    "    x: input images\n",
    "    mode: boolean whether trainig mode or test mode\n",
    "    \n",
    "  Returns:\n",
    "    logits: unnormalized score funtion\n",
    "  \"\"\"\n",
    "  # Input Layer\n",
    "  # Reshape X to 4-D tensor: [batch_size, width, height, channels]\n",
    "  # MNIST images are 28x28 pixels, and have one color channel\n",
    "  with tf.name_scope('reshape'):\n",
    "    x_image = tf.reshape(x, [-1, 28, 28, 1])\n",
    "\n",
    "  # Convolutional Layer #1\n",
    "  # Input Tensor Shape: [batch_size, 28, 28, 1]\n",
    "  # Output Tensor Shape: [batch_size, 28, 28, 32]\n",
    "  conv1 = slim.conv2d(x_image, 32, [5, 5], scope='conv1')\n",
    "  #conv1 = tf.layers.conv2d(\n",
    "  #    inputs=x_image,\n",
    "  #    filters=32,\n",
    "  #    kernel_size=[5, 5],\n",
    "  #    padding=\"same\",\n",
    "  #    activation=tf.nn.relu)\n",
    "\n",
    "  # Pooling Layer #1\n",
    "  # Input Tensor Shape: [batch_size, 28, 28, 32]\n",
    "  # Output Tensor Shape: [batch_size, 14, 14, 32]\n",
    "  pool1 = slim.max_pool2d(conv1, [2, 2], scope='pool1')\n",
    "  #pool1 = tf.layers.max_pooling2d(inputs=conv1, pool_size=[2, 2], strides=2)\n",
    "  \n",
    "  # Convolutional Layer #2\n",
    "  # Input Tensor Shape: [batch_size, 14, 14, 32]\n",
    "  # Output Tensor Shape: [batch_size, 14, 14, 64]\n",
    "  conv2 = slim.conv2d(pool1, 64, [5, 5], scope='conv2')\n",
    "\n",
    "  # Pooling Layer #2\n",
    "  # Second max pooling layer with a 2x2 filter and stride of 2\n",
    "  # Input Tensor Shape: [batch_size, 14, 14, 64]\n",
    "  # Output Tensor Shape: [batch_size, 7, 7, 64]\n",
    "  pool2 = slim.max_pool2d(conv2, [2, 2], scope='pool2')\n",
    "\n",
    "  # Flatten tensor into a batch of vectors\n",
    "  # Input Tensor Shape: [batch_size, 7, 7, 64]\n",
    "  # Output Tensor Shape: [batch_size, 7 * 7 * 64]\n",
    "  pool2_flat = slim.flatten(pool2, scope='flatten')\n",
    "  \n",
    "  # Fully connected Layer\n",
    "  # Input Tensor Shape: [batch_size, 7 * 7 * 64]\n",
    "  # Output Tensor Shape: [batch_size, 1024]\n",
    "  fc1 = slim.fully_connected(pool2_flat, 1024, scope='fc1')\n",
    "  #dense = tf.layers.dense(inputs=pool2_flat, units=1024, activation=tf.nn.relu)\n",
    "\n",
    "  # Add dropout operation; 0.6 probability that element will be kept\n",
    "  is_training = tf.placeholder(tf.bool)\n",
    "  fc1_drop = slim.dropout(fc1, keep_prob=0.6, is_training=is_training, scope='dropout')\n",
    "  #dropout = tf.layers.dropout(inputs=dense, rate=0.4, training=is_training)\n",
    "\n",
    "  # Logits layer\n",
    "  # Input Tensor Shape: [batch_size, 1024]\n",
    "  # Output Tensor Shape: [batch_size, 10]\n",
    "  logits = slim.fully_connected(fc1_drop, 10, activation_fn=None, scope='logits')\n",
    "  \n",
    "  return logits, is_training, x_image"
   ]
  },
  {
   "cell_type": "markdown",
   "metadata": {},
   "source": [
    "### Build the model"
   ]
  },
  {
   "cell_type": "code",
   "execution_count": 7,
   "metadata": {},
   "outputs": [],
   "source": [
    "logits, is_training, x_image = cnn_model_fn(x)"
   ]
  },
  {
   "cell_type": "markdown",
   "metadata": {},
   "source": [
    "### Define loss and optimizer"
   ]
  },
  {
   "cell_type": "code",
   "execution_count": 8,
   "metadata": {},
   "outputs": [],
   "source": [
    "# 여기를 직접 채워 넣으시면 됩니다.\n",
    "#y_one_hot = tf.one_hot(y, depth=10)\n",
    "#cross_entropy = tf.losses.softmax_cross_entropy(onehot_labels=y_one_hot, logits=logits)\n",
    "cross_entropy = tf.losses.sparse_softmax_cross_entropy(labels=y,\n",
    "                                                       logits=logits)\n",
    "\n",
    "train_step = tf.train.AdamOptimizer(1e-4).minimize(cross_entropy)"
   ]
  },
  {
   "cell_type": "markdown",
   "metadata": {},
   "source": [
    "### Assign `tf.summary.FileWriter`"
   ]
  },
  {
   "cell_type": "code",
   "execution_count": 9,
   "metadata": {},
   "outputs": [
    {
     "name": "stdout",
     "output_type": "stream",
     "text": [
      "Saving graph to: graphs/02_mnist_cnn_with_slim\n"
     ]
    }
   ],
   "source": [
    "graph_location = 'graphs/02_mnist_cnn_with_slim'\n",
    "print('Saving graph to: %s' % graph_location)\n",
    "train_writer = tf.summary.FileWriter(graph_location)\n",
    "train_writer.add_graph(tf.get_default_graph()) "
   ]
  },
  {
   "cell_type": "markdown",
   "metadata": {},
   "source": [
    "### `tf.summary`"
   ]
  },
  {
   "cell_type": "code",
   "execution_count": 10,
   "metadata": {},
   "outputs": [],
   "source": [
    "with tf.name_scope('summaries'):\n",
    "  tf.summary.scalar('loss/cross_entropy', cross_entropy)\n",
    "  tf.summary.image('images', x_image)\n",
    "  for var in tf.trainable_variables():\n",
    "    tf.summary.histogram(var.op.name, var)\n",
    "  # merge all summaries\n",
    "  summary_op = tf.summary.merge_all()"
   ]
  },
  {
   "cell_type": "markdown",
   "metadata": {},
   "source": [
    "### `tf.Session()` and train"
   ]
  },
  {
   "cell_type": "code",
   "execution_count": 11,
   "metadata": {},
   "outputs": [
    {
     "name": "stdout",
     "output_type": "stream",
     "text": [
      "epochs: 0, step: 0, loss: 2.30485, (25.11 examples/sec; 1.275 sec/batch)\n",
      "epochs: 0, step: 10, loss: 2.19302, (365.43 examples/sec; 0.088 sec/batch)\n",
      "epochs: 0, step: 20, loss: 1.9984, (416.80 examples/sec; 0.077 sec/batch)\n",
      "epochs: 0, step: 30, loss: 1.71356, (394.32 examples/sec; 0.081 sec/batch)\n",
      "epochs: 0, step: 40, loss: 1.2739, (393.94 examples/sec; 0.081 sec/batch)\n",
      "epochs: 0, step: 50, loss: 1.07317, (333.09 examples/sec; 0.096 sec/batch)\n",
      "epochs: 0, step: 60, loss: 1.23254, (371.20 examples/sec; 0.086 sec/batch)\n",
      "epochs: 0, step: 70, loss: 1.00004, (356.82 examples/sec; 0.090 sec/batch)\n",
      "epochs: 0, step: 80, loss: 0.844404, (369.89 examples/sec; 0.087 sec/batch)\n",
      "epochs: 0, step: 90, loss: 0.78109, (335.96 examples/sec; 0.095 sec/batch)\n",
      "epochs: 0, step: 100, loss: 0.806445, (401.09 examples/sec; 0.080 sec/batch)\n",
      "epochs: 0, step: 110, loss: 0.494727, (333.86 examples/sec; 0.096 sec/batch)\n",
      "epochs: 0, step: 120, loss: 0.735345, (401.88 examples/sec; 0.080 sec/batch)\n",
      "epochs: 0, step: 130, loss: 0.525339, (409.50 examples/sec; 0.078 sec/batch)\n",
      "epochs: 0, step: 140, loss: 0.375985, (407.65 examples/sec; 0.078 sec/batch)\n",
      "epochs: 0, step: 150, loss: 0.538042, (395.30 examples/sec; 0.081 sec/batch)\n",
      "epochs: 0, step: 160, loss: 0.636271, (208.96 examples/sec; 0.153 sec/batch)\n",
      "epochs: 0, step: 170, loss: 0.322205, (355.57 examples/sec; 0.090 sec/batch)\n",
      "epochs: 0, step: 180, loss: 0.53259, (283.30 examples/sec; 0.113 sec/batch)\n",
      "epochs: 0, step: 190, loss: 0.482261, (401.58 examples/sec; 0.080 sec/batch)\n",
      "epochs: 0, step: 200, loss: 0.43016, (387.16 examples/sec; 0.083 sec/batch)\n",
      "epochs: 0, step: 210, loss: 0.156112, (405.15 examples/sec; 0.079 sec/batch)\n",
      "epochs: 0, step: 220, loss: 0.551883, (348.69 examples/sec; 0.092 sec/batch)\n",
      "epochs: 0, step: 230, loss: 0.565012, (332.65 examples/sec; 0.096 sec/batch)\n",
      "epochs: 0, step: 240, loss: 0.546062, (302.28 examples/sec; 0.106 sec/batch)\n",
      "epochs: 0, step: 250, loss: 0.399037, (214.18 examples/sec; 0.149 sec/batch)\n",
      "epochs: 0, step: 260, loss: 0.597396, (319.28 examples/sec; 0.100 sec/batch)\n",
      "epochs: 0, step: 270, loss: 0.57463, (333.62 examples/sec; 0.096 sec/batch)\n",
      "epochs: 0, step: 280, loss: 0.459597, (331.37 examples/sec; 0.097 sec/batch)\n",
      "epochs: 0, step: 290, loss: 0.170633, (332.53 examples/sec; 0.096 sec/batch)\n",
      "epochs: 0, step: 300, loss: 0.31984, (396.31 examples/sec; 0.081 sec/batch)\n",
      "epochs: 0, step: 310, loss: 0.29907, (335.49 examples/sec; 0.095 sec/batch)\n",
      "epochs: 0, step: 320, loss: 0.509465, (400.28 examples/sec; 0.080 sec/batch)\n",
      "epochs: 0, step: 330, loss: 0.206533, (357.68 examples/sec; 0.089 sec/batch)\n",
      "epochs: 0, step: 340, loss: 0.375132, (391.47 examples/sec; 0.082 sec/batch)\n",
      "epochs: 0, step: 350, loss: 0.292518, (404.75 examples/sec; 0.079 sec/batch)\n",
      "epochs: 0, step: 360, loss: 0.301779, (383.87 examples/sec; 0.083 sec/batch)\n",
      "epochs: 0, step: 370, loss: 0.385911, (304.60 examples/sec; 0.105 sec/batch)\n",
      "epochs: 0, step: 380, loss: 0.240607, (366.86 examples/sec; 0.087 sec/batch)\n",
      "epochs: 0, step: 390, loss: 0.304831, (338.94 examples/sec; 0.094 sec/batch)\n",
      "epochs: 0, step: 400, loss: 0.46214, (338.90 examples/sec; 0.094 sec/batch)\n",
      "epochs: 0, step: 410, loss: 0.234692, (376.50 examples/sec; 0.085 sec/batch)\n",
      "epochs: 0, step: 420, loss: 0.138415, (335.18 examples/sec; 0.095 sec/batch)\n",
      "epochs: 0, step: 430, loss: 0.361259, (340.92 examples/sec; 0.094 sec/batch)\n",
      "epochs: 0, step: 440, loss: 0.37218, (318.65 examples/sec; 0.100 sec/batch)\n",
      "epochs: 0, step: 450, loss: 0.392624, (407.96 examples/sec; 0.078 sec/batch)\n",
      "epochs: 0, step: 460, loss: 0.108654, (391.08 examples/sec; 0.082 sec/batch)\n",
      "epochs: 0, step: 470, loss: 0.353858, (399.17 examples/sec; 0.080 sec/batch)\n",
      "epochs: 0, step: 480, loss: 0.231256, (197.30 examples/sec; 0.162 sec/batch)\n",
      "epochs: 0, step: 490, loss: 0.348728, (322.43 examples/sec; 0.099 sec/batch)\n",
      "epochs: 0, step: 500, loss: 0.316382, (329.16 examples/sec; 0.097 sec/batch)\n",
      "epochs: 0, step: 510, loss: 0.220475, (344.00 examples/sec; 0.093 sec/batch)\n",
      "epochs: 0, step: 520, loss: 0.522798, (336.51 examples/sec; 0.095 sec/batch)\n",
      "epochs: 0, step: 530, loss: 0.316066, (360.29 examples/sec; 0.089 sec/batch)\n",
      "epochs: 0, step: 540, loss: 0.278349, (365.26 examples/sec; 0.088 sec/batch)\n",
      "epochs: 0, step: 550, loss: 0.269492, (362.39 examples/sec; 0.088 sec/batch)\n",
      "epochs: 0, step: 560, loss: 0.14468, (346.32 examples/sec; 0.092 sec/batch)\n",
      "epochs: 0, step: 570, loss: 0.319391, (379.36 examples/sec; 0.084 sec/batch)\n",
      "epochs: 0, step: 580, loss: 0.158106, (363.17 examples/sec; 0.088 sec/batch)\n",
      "epochs: 0, step: 590, loss: 0.284959, (375.48 examples/sec; 0.085 sec/batch)\n",
      "epochs: 0, step: 600, loss: 0.125859, (359.86 examples/sec; 0.089 sec/batch)\n",
      "epochs: 0, step: 610, loss: 0.329216, (389.50 examples/sec; 0.082 sec/batch)\n",
      "epochs: 0, step: 620, loss: 0.0724482, (383.49 examples/sec; 0.083 sec/batch)\n",
      "epochs: 0, step: 630, loss: 0.182131, (340.92 examples/sec; 0.094 sec/batch)\n",
      "epochs: 0, step: 640, loss: 0.587295, (352.97 examples/sec; 0.091 sec/batch)\n",
      "epochs: 0, step: 650, loss: 0.130404, (382.47 examples/sec; 0.084 sec/batch)\n",
      "epochs: 0, step: 660, loss: 0.27692, (302.29 examples/sec; 0.106 sec/batch)\n",
      "epochs: 0, step: 670, loss: 0.180965, (395.24 examples/sec; 0.081 sec/batch)\n",
      "epochs: 0, step: 680, loss: 0.101103, (330.47 examples/sec; 0.097 sec/batch)\n",
      "epochs: 0, step: 690, loss: 0.20991, (318.40 examples/sec; 0.101 sec/batch)\n",
      "epochs: 0, step: 700, loss: 0.100259, (308.09 examples/sec; 0.104 sec/batch)\n",
      "epochs: 0, step: 710, loss: 0.0725367, (347.69 examples/sec; 0.092 sec/batch)\n",
      "epochs: 0, step: 720, loss: 0.166888, (336.14 examples/sec; 0.095 sec/batch)\n",
      "epochs: 0, step: 730, loss: 0.305992, (291.40 examples/sec; 0.110 sec/batch)\n",
      "epochs: 0, step: 740, loss: 0.347549, (265.04 examples/sec; 0.121 sec/batch)\n",
      "epochs: 0, step: 750, loss: 0.085156, (360.80 examples/sec; 0.089 sec/batch)\n",
      "epochs: 0, step: 760, loss: 0.139518, (358.78 examples/sec; 0.089 sec/batch)\n",
      "epochs: 0, step: 770, loss: 0.45396, (334.74 examples/sec; 0.096 sec/batch)\n",
      "epochs: 0, step: 780, loss: 0.125831, (360.65 examples/sec; 0.089 sec/batch)\n",
      "epochs: 0, step: 790, loss: 0.23743, (414.83 examples/sec; 0.077 sec/batch)\n",
      "epochs: 0, step: 800, loss: 0.0748264, (425.12 examples/sec; 0.075 sec/batch)\n",
      "epochs: 0, step: 810, loss: 0.178097, (405.90 examples/sec; 0.079 sec/batch)\n",
      "epochs: 0, step: 820, loss: 0.454214, (404.39 examples/sec; 0.079 sec/batch)\n",
      "epochs: 0, step: 830, loss: 0.0273978, (323.76 examples/sec; 0.099 sec/batch)\n",
      "epochs: 0, step: 840, loss: 0.0880538, (209.98 examples/sec; 0.152 sec/batch)\n",
      "epochs: 0, step: 850, loss: 0.110796, (275.88 examples/sec; 0.116 sec/batch)\n",
      "epochs: 0, step: 860, loss: 0.15746, (406.71 examples/sec; 0.079 sec/batch)\n",
      "epochs: 0, step: 870, loss: 0.335434, (410.24 examples/sec; 0.078 sec/batch)\n",
      "epochs: 0, step: 880, loss: 0.125299, (342.06 examples/sec; 0.094 sec/batch)\n",
      "epochs: 0, step: 890, loss: 0.15087, (415.78 examples/sec; 0.077 sec/batch)\n",
      "epochs: 0, step: 900, loss: 0.337986, (411.93 examples/sec; 0.078 sec/batch)\n",
      "epochs: 0, step: 910, loss: 0.211237, (270.88 examples/sec; 0.118 sec/batch)\n",
      "epochs: 0, step: 920, loss: 0.169513, (271.58 examples/sec; 0.118 sec/batch)\n",
      "epochs: 0, step: 930, loss: 0.198567, (261.53 examples/sec; 0.122 sec/batch)\n",
      "epochs: 0, step: 940, loss: 0.145896, (411.35 examples/sec; 0.078 sec/batch)\n",
      "epochs: 0, step: 950, loss: 0.136794, (410.71 examples/sec; 0.078 sec/batch)\n",
      "epochs: 0, step: 960, loss: 0.0926815, (245.83 examples/sec; 0.130 sec/batch)\n",
      "epochs: 0, step: 970, loss: 0.0350318, (262.90 examples/sec; 0.122 sec/batch)\n",
      "epochs: 0, step: 980, loss: 0.0388781, (334.05 examples/sec; 0.096 sec/batch)\n",
      "epochs: 0, step: 990, loss: 0.18715, (256.14 examples/sec; 0.125 sec/batch)\n",
      "epochs: 0, step: 1000, loss: 0.0961149, (224.36 examples/sec; 0.143 sec/batch)\n",
      "epochs: 0, step: 1010, loss: 0.0987633, (422.51 examples/sec; 0.076 sec/batch)\n",
      "epochs: 0, step: 1020, loss: 0.0600178, (403.32 examples/sec; 0.079 sec/batch)\n",
      "epochs: 0, step: 1030, loss: 0.118578, (229.13 examples/sec; 0.140 sec/batch)\n",
      "epochs: 0, step: 1040, loss: 0.135375, (416.31 examples/sec; 0.077 sec/batch)\n",
      "epochs: 0, step: 1050, loss: 0.0519001, (289.76 examples/sec; 0.110 sec/batch)\n",
      "epochs: 0, step: 1060, loss: 0.143711, (304.00 examples/sec; 0.105 sec/batch)\n"
     ]
    },
    {
     "name": "stdout",
     "output_type": "stream",
     "text": [
      "epochs: 0, step: 1070, loss: 0.0803674, (332.67 examples/sec; 0.096 sec/batch)\n",
      "epochs: 0, step: 1080, loss: 0.091568, (395.37 examples/sec; 0.081 sec/batch)\n",
      "epochs: 0, step: 1090, loss: 0.116246, (312.81 examples/sec; 0.102 sec/batch)\n",
      "epochs: 0, step: 1100, loss: 0.0405717, (258.31 examples/sec; 0.124 sec/batch)\n",
      "epochs: 0, step: 1110, loss: 0.190643, (294.35 examples/sec; 0.109 sec/batch)\n",
      "epochs: 0, step: 1120, loss: 0.267117, (416.97 examples/sec; 0.077 sec/batch)\n",
      "epochs: 0, step: 1130, loss: 0.165721, (112.69 examples/sec; 0.284 sec/batch)\n",
      "epochs: 0, step: 1140, loss: 0.028006, (285.72 examples/sec; 0.112 sec/batch)\n",
      "epochs: 0, step: 1150, loss: 0.252213, (364.00 examples/sec; 0.088 sec/batch)\n",
      "epochs: 0, step: 1160, loss: 0.067039, (311.63 examples/sec; 0.103 sec/batch)\n",
      "epochs: 0, step: 1170, loss: 0.0560189, (403.38 examples/sec; 0.079 sec/batch)\n",
      "epochs: 0, step: 1180, loss: 0.141017, (390.53 examples/sec; 0.082 sec/batch)\n",
      "epochs: 0, step: 1190, loss: 0.163225, (406.38 examples/sec; 0.079 sec/batch)\n",
      "epochs: 0, step: 1200, loss: 0.261307, (378.49 examples/sec; 0.085 sec/batch)\n",
      "epochs: 0, step: 1210, loss: 0.240642, (371.06 examples/sec; 0.086 sec/batch)\n",
      "epochs: 0, step: 1220, loss: 0.12003, (394.87 examples/sec; 0.081 sec/batch)\n",
      "epochs: 0, step: 1230, loss: 0.134993, (396.25 examples/sec; 0.081 sec/batch)\n",
      "epochs: 0, step: 1240, loss: 0.03366, (414.85 examples/sec; 0.077 sec/batch)\n",
      "epochs: 0, step: 1250, loss: 0.0214393, (413.77 examples/sec; 0.077 sec/batch)\n",
      "epochs: 0, step: 1260, loss: 0.117886, (350.80 examples/sec; 0.091 sec/batch)\n",
      "epochs: 0, step: 1270, loss: 0.103652, (405.08 examples/sec; 0.079 sec/batch)\n",
      "epochs: 0, step: 1280, loss: 0.0169852, (349.71 examples/sec; 0.092 sec/batch)\n",
      "epochs: 0, step: 1290, loss: 0.00869097, (322.07 examples/sec; 0.099 sec/batch)\n",
      "epochs: 0, step: 1300, loss: 0.0608319, (236.33 examples/sec; 0.135 sec/batch)\n",
      "epochs: 0, step: 1310, loss: 0.070169, (345.67 examples/sec; 0.093 sec/batch)\n",
      "epochs: 0, step: 1320, loss: 0.120812, (409.21 examples/sec; 0.078 sec/batch)\n",
      "epochs: 0, step: 1330, loss: 0.176185, (402.01 examples/sec; 0.080 sec/batch)\n",
      "epochs: 0, step: 1340, loss: 0.0888835, (372.97 examples/sec; 0.086 sec/batch)\n",
      "epochs: 0, step: 1350, loss: 0.0270587, (382.34 examples/sec; 0.084 sec/batch)\n",
      "epochs: 0, step: 1360, loss: 0.0764685, (375.65 examples/sec; 0.085 sec/batch)\n",
      "epochs: 0, step: 1370, loss: 0.0826343, (379.13 examples/sec; 0.084 sec/batch)\n",
      "epochs: 0, step: 1380, loss: 0.052783, (410.70 examples/sec; 0.078 sec/batch)\n",
      "epochs: 0, step: 1390, loss: 0.0295367, (329.30 examples/sec; 0.097 sec/batch)\n",
      "epochs: 0, step: 1400, loss: 0.155033, (301.49 examples/sec; 0.106 sec/batch)\n",
      "epochs: 0, step: 1410, loss: 0.188559, (387.49 examples/sec; 0.083 sec/batch)\n",
      "epochs: 0, step: 1420, loss: 0.038953, (302.69 examples/sec; 0.106 sec/batch)\n",
      "epochs: 0, step: 1430, loss: 0.0352896, (396.05 examples/sec; 0.081 sec/batch)\n",
      "epochs: 0, step: 1440, loss: 0.0607917, (406.85 examples/sec; 0.079 sec/batch)\n",
      "epochs: 0, step: 1450, loss: 0.0571649, (389.89 examples/sec; 0.082 sec/batch)\n",
      "epochs: 0, step: 1460, loss: 0.129023, (389.57 examples/sec; 0.082 sec/batch)\n",
      "epochs: 0, step: 1470, loss: 0.177147, (413.06 examples/sec; 0.077 sec/batch)\n",
      "epochs: 0, step: 1480, loss: 0.054336, (248.35 examples/sec; 0.129 sec/batch)\n",
      "epochs: 0, step: 1490, loss: 0.160521, (406.01 examples/sec; 0.079 sec/batch)\n",
      "epochs: 0, step: 1500, loss: 0.0889571, (362.76 examples/sec; 0.088 sec/batch)\n",
      "epochs: 0, step: 1510, loss: 0.0371555, (404.23 examples/sec; 0.079 sec/batch)\n",
      "epochs: 0, step: 1520, loss: 0.151822, (347.13 examples/sec; 0.092 sec/batch)\n",
      "epochs: 0, step: 1530, loss: 0.0646612, (337.62 examples/sec; 0.095 sec/batch)\n",
      "epochs: 0, step: 1540, loss: 0.15574, (409.38 examples/sec; 0.078 sec/batch)\n",
      "epochs: 0, step: 1550, loss: 0.0498915, (360.47 examples/sec; 0.089 sec/batch)\n",
      "epochs: 0, step: 1560, loss: 0.260216, (400.54 examples/sec; 0.080 sec/batch)\n",
      "epochs: 0, step: 1570, loss: 0.0905545, (319.79 examples/sec; 0.100 sec/batch)\n",
      "epochs: 0, step: 1580, loss: 0.246405, (345.01 examples/sec; 0.093 sec/batch)\n",
      "epochs: 0, step: 1590, loss: 0.0602992, (425.98 examples/sec; 0.075 sec/batch)\n",
      "epochs: 0, step: 1600, loss: 0.268772, (379.31 examples/sec; 0.084 sec/batch)\n",
      "epochs: 0, step: 1610, loss: 0.0436127, (213.34 examples/sec; 0.150 sec/batch)\n",
      "epochs: 0, step: 1620, loss: 0.132313, (309.61 examples/sec; 0.103 sec/batch)\n",
      "epochs: 0, step: 1630, loss: 0.0573873, (352.30 examples/sec; 0.091 sec/batch)\n",
      "epochs: 0, step: 1640, loss: 0.0537575, (321.18 examples/sec; 0.100 sec/batch)\n",
      "epochs: 0, step: 1650, loss: 0.326312, (347.53 examples/sec; 0.092 sec/batch)\n",
      "epochs: 0, step: 1660, loss: 0.202004, (304.75 examples/sec; 0.105 sec/batch)\n",
      "epochs: 0, step: 1670, loss: 0.110454, (339.40 examples/sec; 0.094 sec/batch)\n",
      "epochs: 0, step: 1680, loss: 0.071891, (314.65 examples/sec; 0.102 sec/batch)\n",
      "epochs: 0, step: 1690, loss: 0.0512081, (280.80 examples/sec; 0.114 sec/batch)\n",
      "epochs: 0, step: 1700, loss: 0.188773, (241.80 examples/sec; 0.132 sec/batch)\n",
      "epochs: 0, step: 1710, loss: 0.0767749, (263.30 examples/sec; 0.122 sec/batch)\n",
      "epochs: 0, step: 1720, loss: 0.126233, (192.15 examples/sec; 0.167 sec/batch)\n",
      "epochs: 0, step: 1730, loss: 0.0499499, (223.73 examples/sec; 0.143 sec/batch)\n",
      "epochs: 0, step: 1740, loss: 0.0171356, (287.19 examples/sec; 0.111 sec/batch)\n",
      "epochs: 0, step: 1750, loss: 0.0515999, (410.56 examples/sec; 0.078 sec/batch)\n",
      "epochs: 0, step: 1760, loss: 0.0150417, (407.52 examples/sec; 0.079 sec/batch)\n",
      "epochs: 0, step: 1770, loss: 0.227856, (392.55 examples/sec; 0.082 sec/batch)\n",
      "epochs: 0, step: 1780, loss: 0.0399333, (353.13 examples/sec; 0.091 sec/batch)\n",
      "epochs: 0, step: 1790, loss: 0.0433603, (389.82 examples/sec; 0.082 sec/batch)\n",
      "epochs: 0, step: 1800, loss: 0.0514511, (411.27 examples/sec; 0.078 sec/batch)\n",
      "epochs: 0, step: 1810, loss: 0.00953117, (405.64 examples/sec; 0.079 sec/batch)\n",
      "epochs: 0, step: 1820, loss: 0.0154342, (294.17 examples/sec; 0.109 sec/batch)\n",
      "epochs: 0, step: 1830, loss: 0.0532644, (323.60 examples/sec; 0.099 sec/batch)\n",
      "epochs: 0, step: 1840, loss: 0.221772, (358.51 examples/sec; 0.089 sec/batch)\n",
      "epochs: 0, step: 1850, loss: 0.0114701, (296.91 examples/sec; 0.108 sec/batch)\n",
      "epochs: 0, step: 1860, loss: 0.0346417, (298.11 examples/sec; 0.107 sec/batch)\n",
      "End of dataset\n",
      "training done!\n"
     ]
    }
   ],
   "source": [
    "sess = tf.Session(config=sess_config)\n",
    "sess.run(tf.global_variables_initializer())\n",
    "\n",
    "# train_iterator\n",
    "train_iterator = train_dataset.make_initializable_iterator()\n",
    "train_handle = sess.run(train_iterator.string_handle())\n",
    "\n",
    "# Train\n",
    "max_epochs = 1\n",
    "step = 0\n",
    "for epochs in range(max_epochs):\n",
    "  # 여기를 직접 채워 넣으시면 됩니다.\n",
    "  sess.run(train_iterator.initializer)\n",
    "\n",
    "  while True:\n",
    "    try:\n",
    "      start_time = time.time()\n",
    "      _, loss = sess.run([train_step, cross_entropy],\n",
    "                         feed_dict={handle: train_handle,\n",
    "                                    is_training: True})\n",
    "      if step % 10 == 0:\n",
    "        duration = time.time() - start_time\n",
    "        examples_per_sec = batch_size / float(duration)\n",
    "        print(\"epochs: {}, step: {}, loss: {:g}, ({:.2f} examples/sec; {:.3f} sec/batch)\".format(epochs, step, loss, examples_per_sec, duration))\n",
    "        \n",
    "      if step % 200 == 0:\n",
    "        # summary\n",
    "        summary_str = sess.run(summary_op, feed_dict={handle: train_handle, is_training: False})\n",
    "        train_writer.add_summary(summary_str, global_step=step)\n",
    "        \n",
    "      step += 1\n",
    "\n",
    "    except tf.errors.OutOfRangeError:\n",
    "      print(\"End of dataset\")  # ==> \"End of dataset\"\n",
    "      break\n",
    "\n",
    "train_writer.close()\n",
    "print(\"training done!\")"
   ]
  },
  {
   "cell_type": "markdown",
   "metadata": {},
   "source": [
    "### Test trained model"
   ]
  },
  {
   "cell_type": "code",
   "execution_count": 12,
   "metadata": {},
   "outputs": [],
   "source": [
    "# test_iterator\n",
    "test_iterator = test_dataset.make_initializable_iterator()\n",
    "test_handle = sess.run(test_iterator.string_handle())\n",
    "sess.run(test_iterator.initializer)"
   ]
  },
  {
   "cell_type": "code",
   "execution_count": 13,
   "metadata": {},
   "outputs": [
    {
     "name": "stdout",
     "output_type": "stream",
     "text": [
      "test accuracy: 0.9783\n"
     ]
    }
   ],
   "source": [
    "accuracy, acc_op = tf.metrics.accuracy(labels=y, predictions=tf.argmax(logits, 1), name='accuracy')\n",
    "sess.run(tf.local_variables_initializer())\n",
    "\n",
    "sess.run(acc_op, feed_dict={handle: test_handle, is_training: False})\n",
    "print(\"test accuracy:\", sess.run(accuracy, feed_dict={handle: test_handle, is_training: False}))"
   ]
  },
  {
   "cell_type": "markdown",
   "metadata": {},
   "source": [
    "### Print results"
   ]
  },
  {
   "cell_type": "code",
   "execution_count": 14,
   "metadata": {},
   "outputs": [
    {
     "data": {
      "image/png": "[encoded data removed]",
      "text/plain": [
       "<Figure size 1152x720 with 16 Axes>"
      ]
     },
     "metadata": {},
     "output_type": "display_data"
    }
   ],
   "source": [
    "test_batch_size = 16\n",
    "batch_index = np.random.choice(len(test_data), size=test_batch_size, replace=False)\n",
    "batch_xs = test_data[batch_index]\n",
    "batch_ys = test_labels[batch_index]\n",
    "y_pred = sess.run(logits, feed_dict={x: batch_xs, is_training: False})\n",
    "\n",
    "fig = plt.figure(figsize=(16, 10))\n",
    "for i, (px, py) in enumerate(zip(batch_xs, y_pred)):\n",
    "  p = fig.add_subplot(4, 8, i+1)\n",
    "  if np.argmax(py) == batch_ys[i]:\n",
    "    p.set_title(\"y_pred: {}\".format(np.argmax(py)), color='blue')\n",
    "  else:\n",
    "    p.set_title(\"y_pred: {}\".format(np.argmax(py)), color='red')  \n",
    "  p.imshow(px.reshape(28, 28))\n",
    "  p.axis('off')"
   ]
  }
 ],
 "metadata": {
  "kernelspec": {
   "display_name": "Python 3",
   "language": "python",
   "name": "python3"
  },
  "language_info": {
   "codemirror_mode": {
    "name": "ipython",
    "version": 3
   },
   "file_extension": ".py",
   "mimetype": "text/x-python",
   "name": "python",
   "nbconvert_exporter": "python",
   "pygments_lexer": "ipython3",
   "version": "3.6.5"
  }
 },
 "nbformat": 4,
 "nbformat_minor": 2
}
