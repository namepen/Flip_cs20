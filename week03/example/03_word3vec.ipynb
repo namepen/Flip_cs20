{
 "cells": [
  {
   "cell_type": "code",
   "execution_count": 1,
   "metadata": {},
   "outputs": [
    {
     "name": "stderr",
     "output_type": "stream",
     "text": [
      "C:\\Users\\home\\Anaconda3\\lib\\site-packages\\h5py\\__init__.py:36: FutureWarning: Conversion of the second argument of issubdtype from `float` to `np.floating` is deprecated. In future, it will be treated as `np.float64 == np.dtype(float).type`.\n",
      "  from ._conv import register_converters as _register_converters\n"
     ]
    }
   ],
   "source": [
    "\"\"\" starter code for word2vec skip-gram model with NCE loss\n",
    "CS 20: \"TensorFlow for Deep Learning Research\"\n",
    "cs20.stanford.edu\n",
    "Chip Huyen (chiphuyen@cs.stanford.edu)\n",
    "Lecture 04\n",
    "\"\"\"\n",
    "\n",
    "import os\n",
    "os.environ['TF_CPP_MIN_LOG_LEVEL']='2'\n",
    "\n",
    "import numpy as np\n",
    "from tensorflow.contrib.tensorboard.plugins import projector\n",
    "import tensorflow as tf\n",
    "\n",
    "import utils\n",
    "import word2vec_utils"
   ]
  },
  {
   "cell_type": "code",
   "execution_count": 2,
   "metadata": {},
   "outputs": [],
   "source": [
    "# Model hyperparameters\n",
    "VOCAB_SIZE = 50000\n",
    "BATCH_SIZE = 128\n",
    "EMBED_SIZE = 128            # dimension of the word embedding vectors\n",
    "SKIP_WINDOW = 1             # the context window\n",
    "NUM_SAMPLED = 64            # number of negative examples to sample\n",
    "LEARNING_RATE = 1.0\n",
    "NUM_TRAIN_STEPS = 100000\n",
    "VISUAL_FLD = 'visualization'\n",
    "SKIP_STEP = 5000"
   ]
  },
  {
   "cell_type": "code",
   "execution_count": 3,
   "metadata": {},
   "outputs": [],
   "source": [
    "# Parameters for downloading data\n",
    "DOWNLOAD_URL = 'http://mattmahoney.net/dc/text8.zip'\n",
    "EXPECTED_BYTES = 31344016\n",
    "NUM_VISUALIZE = 3000        # number of tokens to visualize"
   ]
  },
  {
   "cell_type": "markdown",
   "metadata": {},
   "source": [
    "### loading dataset"
   ]
  },
  {
   "cell_type": "code",
   "execution_count": 4,
   "metadata": {},
   "outputs": [],
   "source": [
    "def gen():\n",
    "    yield from word2vec_utils.batch_gen(DOWNLOAD_URL, EXPECTED_BYTES, VOCAB_SIZE, \n",
    "                                        BATCH_SIZE, SKIP_WINDOW, VISUAL_FLD)"
   ]
  },
  {
   "cell_type": "code",
   "execution_count": 5,
   "metadata": {},
   "outputs": [],
   "source": [
    "dataset = tf.data.Dataset.from_generator(gen, (tf.int32, tf.int32), \n",
    "                                (tf.TensorShape([BATCH_SIZE]), tf.TensorShape([BATCH_SIZE, 1])))"
   ]
  },
  {
   "cell_type": "code",
   "execution_count": 6,
   "metadata": {},
   "outputs": [
    {
     "data": {
      "text/plain": [
       "<FlatMapDataset shapes: ((128,), (128, 1)), types: (tf.int32, tf.int32)>"
      ]
     },
     "execution_count": 6,
     "metadata": {},
     "output_type": "execute_result"
    }
   ],
   "source": [
    "dataset "
   ]
  },
  {
   "cell_type": "markdown",
   "metadata": {},
   "source": [
    "### setting word2vec function"
   ]
  },
  {
   "cell_type": "code",
   "execution_count": 7,
   "metadata": {},
   "outputs": [
    {
     "name": "stdout",
     "output_type": "stream",
     "text": [
      "Downloading http://mattmahoney.net/dc/text8.zip\n",
      "Successfully downloaded data/text8.zip\n",
      "Average loss at step 4999:  75.0\n",
      "Average loss at step 9999:  23.7\n",
      "Average loss at step 14999:  13.2\n",
      "Average loss at step 19999:   9.2\n",
      "Average loss at step 24999:   7.4\n",
      "Average loss at step 29999:   6.7\n",
      "Average loss at step 34999:   6.3\n",
      "Average loss at step 39999:   5.8\n",
      "Average loss at step 44999:   5.7\n",
      "Average loss at step 49999:   5.4\n",
      "Average loss at step 54999:   5.4\n",
      "Average loss at step 59999:   5.3\n",
      "Average loss at step 64999:   5.1\n",
      "Average loss at step 69999:   5.1\n",
      "Average loss at step 74999:   5.0\n",
      "Average loss at step 79999:   5.0\n",
      "Average loss at step 84999:   5.0\n",
      "Average loss at step 89999:   5.0\n",
      "Average loss at step 94999:   4.9\n",
      "Average loss at step 99999:   4.9\n"
     ]
    }
   ],
   "source": [
    "#step 1: get input, output form dataset\n",
    "with tf.name_scope('data'):\n",
    "    iterator = dataset.make_initializable_iterator()\n",
    "    center_words, target_words = iterator.get_next()\n",
    "\n",
    "\"\"\" Step 2 + 3: define weights and embedding lookup.\n",
    "In word2vec, it's actually the weights that we care about \n",
    "\"\"\"\n",
    "with tf.name_scope('embed'):\n",
    "    embed_matrix = tf.get_variable('embed_matrix', shape=[VOCAB_SIZE, EMBED_SIZE],\n",
    "                                   initializer=tf.random_normal_initializer())\n",
    "    embed = tf.nn.embedding_lookup(embed_matrix, center_words, name='embedding') #Looks up `ids` in a list of embedding tensors.\n",
    "\n",
    "# Step 4: construct variables for NCE loss and define loss function\n",
    "with tf.name_scope('loss'):\n",
    "    nce_weight = tf.get_variable('nce_weight', shape=[VOCAB_SIZE, EMBED_SIZE],\n",
    "                                initializer=tf.truncated_normal_initializer(stddev=1.0 / (EMBED_SIZE ** 0.5)))\n",
    "    nce_bias = tf.get_variable('nce_bias', initializer=tf.zeros([VOCAB_SIZE]))\n",
    "\n",
    "    # define loss function to be NCE loss function\n",
    "    loss = tf.reduce_mean(tf.nn.nce_loss(weights=nce_weight, biases=nce_bias,labels=target_words,\n",
    "                                         inputs=embed,\n",
    "                                         num_sampled=NUM_SAMPLED, num_classes= VOCAB_SIZE),\n",
    "                          name= 'nce_loss_with_mean')\n",
    "\n",
    "# Step 5: define optimizer\n",
    "with tf.name_scope('optimizer'):\n",
    "    optimizer = tf.train.GradientDescentOptimizer(learning_rate=LEARNING_RATE).minimize(loss)\n",
    "\n",
    "utils.safe_mkdir('checkpoints')\n",
    "\n",
    "with tf.Session() as sess:\n",
    "    sess.run(iterator.initializer)\n",
    "    sess.run(tf.global_variables_initializer())\n",
    "\n",
    "    total_loss = .0 # we use this to calculate late average loss in the last SKIP_STEP steps\n",
    "    writer = tf.summary.FileWriter('./graphs/word2vec', sess.graph)\n",
    "\n",
    "    for index in range(NUM_TRAIN_STEPS):\n",
    "        try:\n",
    "            loss_batch, _ = sess.run([loss, optimizer])\n",
    "            total_loss += loss_batch\n",
    "            if (index + 1) % SKIP_STEP == 0:\n",
    "                print('Average loss at step {}: {:5.1f}'.format(index, total_loss / SKIP_STEP))\n",
    "                total_loss = 0.0\n",
    "\n",
    "        except tf.errors.OutOfRangeError:\n",
    "            sess.run(iterator.initializer)\n",
    "    writer.close()"
   ]
  },
  {
   "cell_type": "markdown",
   "metadata": {},
   "source": [
    "## VIsualization in tensorboard"
   ]
  },
  {
   "cell_type": "code",
   "execution_count": 9,
   "metadata": {},
   "outputs": [],
   "source": [
    "VISUAL_FLD = 'visualization'\n",
    "NUM_VISUALIZE = 3000        # number of tokens to visualize"
   ]
  },
  {
   "cell_type": "code",
   "execution_count": 14,
   "metadata": {},
   "outputs": [],
   "source": [
    "def visualize(visual_fld, num_visualize):\n",
    "    \"\"\" run \"'tensorboard --logdir='visualization'\" to see the embeddings \"\"\"\n",
    "\n",
    "    # create the list of num_variable most common words to visualize\n",
    "    word2vec_utils.most_common_words(visual_fld, num_visualize)\n",
    "\n",
    "    saver = tf.train.Saver()\n",
    "    with tf.Session() as sess:\n",
    "        sess.run(tf.global_variables_initializer())\n",
    "        ckpt = tf.train.get_checkpoint_state(os.path.dirname('checkpoints/checkpoint'))\n",
    "\n",
    "        # if that checkpoint exists, restore from checkpoint\n",
    "        if ckpt and ckpt.model_checkpoint_path:\n",
    "            saver.restore(sess, ckpt.model_checkpoint_path)\n",
    "\n",
    "        final_embed_matrix = sess.run(embed_matrix)\n",
    "\n",
    "        # you have to store embeddings in a new variable\n",
    "        embedding_var = tf.Variable(final_embed_matrix[:num_visualize], name='embedding')\n",
    "        sess.run(embedding_var.initializer)\n",
    "\n",
    "        config = projector.ProjectorConfig()\n",
    "        summary_writer = tf.summary.FileWriter(visual_fld)\n",
    "\n",
    "        # add embedding to the config file\n",
    "        embedding = config.embeddings.add()\n",
    "        embedding.tensor_name = embedding_var.name\n",
    "\n",
    "        # link this tensor to its metadata file, in this case the first NUM_VISUALIZE words of vocab\n",
    "        embedding.metadata_path = 'vocab_' + str(num_visualize) + '.tsv'\n",
    "\n",
    "        # saves a configuration file that TensorBoard will read during startup.\n",
    "        projector.visualize_embeddings(summary_writer, config)\n",
    "        saver_embed = tf.train.Saver([embedding_var])\n",
    "        saver_embed.save(sess, os.path.join(visual_fld, 'model.ckpt'), 1)"
   ]
  },
  {
   "cell_type": "code",
   "execution_count": 15,
   "metadata": {},
   "outputs": [],
   "source": [
    "visualize(VISUAL_FLD, NUM_VISUALIZE)"
   ]
  }
 ],
 "metadata": {
  "kernelspec": {
   "display_name": "Python 3",
   "language": "python",
   "name": "python3"
  },
  "language_info": {
   "codemirror_mode": {
    "name": "ipython",
    "version": 3
   },
   "file_extension": ".py",
   "mimetype": "text/x-python",
   "name": "python",
   "nbconvert_exporter": "python",
   "pygments_lexer": "ipython3",
   "version": "3.6.5"
  }
 },
 "nbformat": 4,
 "nbformat_minor": 2
}
