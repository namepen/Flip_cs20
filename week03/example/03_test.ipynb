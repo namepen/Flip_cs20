{
 "cells": [
  {
   "cell_type": "code",
   "execution_count": 1,
   "metadata": {},
   "outputs": [
    {
     "name": "stderr",
     "output_type": "stream",
     "text": [
      "C:\\Users\\user\\Anaconda3\\lib\\site-packages\\h5py\\__init__.py:36: FutureWarning: Conversion of the second argument of issubdtype from `float` to `np.floating` is deprecated. In future, it will be treated as `np.float64 == np.dtype(float).type`.\n",
      "  from ._conv import register_converters as _register_converters\n",
      "C:\\Users\\user\\Anaconda3\\lib\\site-packages\\requests\\__init__.py:80: RequestsDependencyWarning: urllib3 (1.23) or chardet (3.0.4) doesn't match a supported version!\n",
      "  RequestsDependencyWarning)\n"
     ]
    }
   ],
   "source": [
    "\"\"\"A LeNet-5 like cnn MNIST classifier.\n",
    "\"\"\"\n",
    "from __future__ import absolute_import\n",
    "from __future__ import division\n",
    "from __future__ import print_function\n",
    "\n",
    "import time\n",
    "import numpy as np\n",
    "\n",
    "import tensorflow as tf\n",
    "\n",
    "slim = tf.contrib.slim\n",
    "\n",
    "sess_config = tf.ConfigProto(gpu_options=tf.GPUOptions(allow_growth=True))\n",
    "\n",
    "np.random.seed(219)\n",
    "tf.set_random_seed(219)"
   ]
  },
  {
   "cell_type": "code",
   "execution_count": null,
   "metadata": {},
   "outputs": [],
   "source": [
    "# Load training and eval data from tf.keras\n",
    "(train_data, train_labels), (test_data, test_labels) = \\\n",
    "    tf.keras.datasets.mnist.load_data()\n",
    "\n",
    "train_data = train_data / 255.\n",
    "train_labels = np.asarray(train_labels, dtype=np.int32)\n",
    "\n",
    "test_data = test_data / 255.\n",
    "test_labels = np.asarray(test_labels, dtype=np.int32)"
   ]
  },
  {
   "cell_type": "code",
   "execution_count": null,
   "metadata": {},
   "outputs": [],
   "source": [
    "import numpy as np\n",
    "import matplotlib.pyplot as plt\n",
    "%matplotlib inline\n",
    "\n",
    "index = 500\n",
    "print(\"label = {}\".format(train_labels[index]))\n",
    "plt.imshow(train_data[index].reshape(28, 28), cmap='gray')\n",
    "plt.show()"
   ]
  },
  {
   "cell_type": "code",
   "execution_count": null,
   "metadata": {},
   "outputs": [],
   "source": [
    "batch_size = 32\n",
    "\n",
    "# for train\n",
    "train_dataset = tf.data.Dataset.from_tensor_slices((train_data, train_labels))\n",
    "train_dataset = train_dataset.shuffle(buffer_size = 10000)\n",
    "train_dataset = train_dataset.batch(batch_size = batch_size)\n",
    "print(train_dataset)\n",
    "\n",
    "# for test\n",
    "test_dataset = tf.data.Dataset.from_tensor_slices((test_data, test_labels))\n",
    "test_dataset = test_dataset.shuffle(buffer_size = 10000)\n",
    "test_dataset = test_dataset.batch(batch_size = len(test_data))\n",
    "print(test_dataset)"
   ]
  },
  {
   "cell_type": "code",
   "execution_count": null,
   "metadata": {},
   "outputs": [],
   "source": [
    "# tf.data.Iterator.from_string_handle의 output_shapes는 default = None이지만 꼭 값을 넣는 게 좋음\n",
    "handle = tf.placeholder(tf.string, shape=[])\n",
    "iterator = tf.data.Iterator.from_string_handle(handle,\n",
    "                                               train_dataset.output_types,\n",
    "                                               train_dataset.output_shapes)\n",
    "x, y = iterator.get_next()\n",
    "x = tf.cast(x, dtype = tf.float32)\n",
    "y = tf.cast(y, dtype = tf.int32)"
   ]
  },
  {
   "cell_type": "code",
   "execution_count": 2,
   "metadata": {},
   "outputs": [],
   "source": [
    "?slim.conv2d"
   ]
  },
  {
   "cell_type": "code",
   "execution_count": 4,
   "metadata": {},
   "outputs": [],
   "source": [
    "def resnet_model(x):\n",
    "    \n",
    "    with tf.name_scope('reshape'):\n",
    "        x_image = tf.reshape(x, shape=[-1, 28, 28, 1])\n",
    "        \n",
    "        conv = slim.conv2d(x_image, nu16, [3,3], scope='init_conv')\n",
    "        #output : [batch_size, 28, 28, 16]\n",
    "        \n",
    "        with tf.variable_scope(\"first_box\", num_outputs = 16, kernel_size = [3,3]):\n",
    "            conv1 = slim.conv2d(conv, \"conv1\")\n",
    "            conv2 = slim.conv2d(con1, \"conv2\")\n",
    "            conv3 = slim.conv2d(con2, \"conv3\")\n",
    "            conv4 = slim.conv2d(con3, \"conv4\")\n",
    "            \n",
    "        pool1 = slim.conv2d(conv4, kernel_size=[2,2], scope='pool1')\n",
    "        #output : [batch_size, 14,14, 16]\n",
    "        \n",
    "        with tf.variable_scope(\"second_box\", num_outputs = 32, kernel_size = [3,3]):\n",
    "            conv1 = slim.conv2d(conv4, \"conv1\")\n",
    "            conv2 = slim.conv2d(con1, \"conv2\")\n",
    "            conv3 = slim.conv2d(con2, \"conv3\")\n",
    "            conv4 = slim.conv2d(con3, \"conv4\")\n",
    "            \n",
    "        pool2 = slim.conv2d(conv4, kernel_size=[2,2], scope='pool1')\n",
    "        #output : [batch_size, 7,7, 16]\n",
    "        \n",
    "        with tf.variable_scope(\"third_box\", num_outputs = 64, kernel_size = [3,3]):\n",
    "            conv1 = slim.conv2d(conv4, \"conv1\")\n",
    "            conv2 = slim.conv2d(con1, \"conv2\")\n",
    "            conv3 = slim.conv2d(con2, \"conv3\")\n",
    "            conv4 = slim.conv2d(con3, \"conv4\")\n",
    "            \n",
    "        fc1 = slim.fully_connected(conv4, 1024, scope='fc1')\n",
    "        \n",
    "        is_training = tf.placeholder(tf.bool, shape=[])\n",
    "        fc_drop = slim.dropout(fc1, keep_prob=0.7, scope='dropout')\n",
    "        \n",
    "        logits = slim.fully_connected(fc1_drop, 10, activation_fn=None, scope='logits')\n",
    "        \n",
    "        return logits, is_training, x_image"
   ]
  },
  {
   "cell_type": "code",
   "execution_count": null,
   "metadata": {},
   "outputs": [],
   "source": []
  }
 ],
 "metadata": {
  "kernelspec": {
   "display_name": "Python 3",
   "language": "python",
   "name": "python3"
  },
  "language_info": {
   "codemirror_mode": {
    "name": "ipython",
    "version": 3
   },
   "file_extension": ".py",
   "mimetype": "text/x-python",
   "name": "python",
   "nbconvert_exporter": "python",
   "pygments_lexer": "ipython3",
   "version": "3.6.5"
  }
 },
 "nbformat": 4,
 "nbformat_minor": 2
}
