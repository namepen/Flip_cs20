{
 "cells": [
  {
   "cell_type": "markdown",
   "metadata": {},
   "source": [
    "# TensorFlow Dimension"
   ]
  },
  {
   "cell_type": "code",
   "execution_count": null,
   "metadata": {},
   "outputs": [],
   "source": [
    "import tensorflow as tf\n",
    "\n",
    "sess_config = tf.ConfigProto(gpu_options=tf.GPUOptions(allow_growth=True))"
   ]
  },
  {
   "cell_type": "markdown",
   "metadata": {},
   "source": [
    "## What is Tensor?\n",
    "\n",
    "* Tensor: An n-dimensional array (rough하게)\n",
    "  * rank 0: scalar\n",
    "  * rank 1: vector\n",
    "  * rank 2: matrix\n",
    "  * rank 3: 3-tensor (cube 모양)\n",
    "  * rank n: n-tensor"
   ]
  },
  {
   "cell_type": "markdown",
   "metadata": {},
   "source": [
    "### Dimension과 자주 쓰이는 Constant Value Tensors API를 함께 알아보자\n",
    "\n",
    "* [Constant Value Tensors](https://www.tensorflow.org/api_guides/python/constant_op#Constant_Value_Tensors)\n",
    "  * `tf.constant`\n",
    "  * `tf.zeros`\n",
    "  * `tf.zeros_like`\n",
    "  * `tf.ones`\n",
    "  * `tf.ones_like`\n",
    "  * `tf.fill`\n",
    "* Sequences Tensors\n",
    "  * `tf.linspace`\n",
    "  * `tf.range`"
   ]
  },
  {
   "cell_type": "code",
   "execution_count": null,
   "metadata": {},
   "outputs": [],
   "source": [
    "# rank 0 tensor: scalar\n",
    "a = tf.constant(3, name='a')\n",
    "print(a)"
   ]
  },
  {
   "cell_type": "code",
   "execution_count": null,
   "metadata": {},
   "outputs": [],
   "source": [
    "# rank 1 tensor: vector\n",
    "b = tf.zeros([2])\n",
    "print(b)"
   ]
  },
  {
   "cell_type": "code",
   "execution_count": null,
   "metadata": {},
   "outputs": [],
   "source": [
    "# rank 2 tensor: matrix\n",
    "c = tf.ones([2, 3])\n",
    "print(c)"
   ]
  },
  {
   "cell_type": "code",
   "execution_count": null,
   "metadata": {},
   "outputs": [],
   "source": [
    "# rank 3 tensor: 3-tensor\n",
    "d = tf.fill([2, 3, 4], 3)\n",
    "print(d)"
   ]
  },
  {
   "cell_type": "code",
   "execution_count": null,
   "metadata": {},
   "outputs": [],
   "source": [
    "# ones_like\n",
    "e = tf.ones_like(d)\n",
    "print(e)"
   ]
  },
  {
   "cell_type": "code",
   "execution_count": null,
   "metadata": {},
   "outputs": [],
   "source": [
    "# linespace\n",
    "f = tf.linspace(1.0, 5.0, 4)\n",
    "print(f)"
   ]
  },
  {
   "cell_type": "code",
   "execution_count": null,
   "metadata": {},
   "outputs": [],
   "source": [
    "print(a.shape)\n",
    "print(b.shape)\n",
    "print(c.shape)\n",
    "print(d.shape)\n",
    "print(e.shape)\n",
    "print(f.shape)"
   ]
  },
  {
   "cell_type": "code",
   "execution_count": null,
   "metadata": {},
   "outputs": [],
   "source": [
    "print(a.name)\n",
    "print(b.name)\n",
    "print(c.name)\n",
    "print(d.name)\n",
    "print(e.name)\n",
    "print(f.name)"
   ]
  },
  {
   "cell_type": "markdown",
   "metadata": {},
   "source": [
    "### `tf.Session()`을 사용하여 값을 출력해보자"
   ]
  },
  {
   "cell_type": "code",
   "execution_count": null,
   "metadata": {},
   "outputs": [],
   "source": [
    "with tf.Session(config=sess_config) as sess:\n",
    "  print('a:', sess.run(a), '\\n')\n",
    "  print('b:', sess.run(b), '\\n')\n",
    "  print('c:', sess.run(c), '\\n')\n",
    "  print('d:', sess.run(d), '\\n')\n",
    "  print('e:', sess.run(e), '\\n')\n",
    "  print('f:', sess.run(f))"
   ]
  },
  {
   "cell_type": "markdown",
   "metadata": {},
   "source": [
    "### 여러 변수들 session을 이용하여 한번에 실행"
   ]
  },
  {
   "cell_type": "code",
   "execution_count": null,
   "metadata": {},
   "outputs": [],
   "source": [
    "with tf.Session(config=sess_config) as sess:\n",
    "  u, v, w, x, y, z = sess.run([a, b, c, d, e, f])\n",
    "  #print(u, v, w, x, y, z)\n",
    "  print('a:', u, '\\n')\n",
    "  print('b:', v, '\\n')\n",
    "  print('c:', w, '\\n')\n",
    "  print('d:', x, '\\n')\n",
    "  print('e:', y, '\\n')\n",
    "  print('f:', z)"
   ]
  },
  {
   "cell_type": "markdown",
   "metadata": {},
   "source": [
    "### 자주 쓰는 Random Tensors 들도 사용해보자\n",
    "\n",
    "* [Random Tensors](https://www.tensorflow.org/api_guides/python/constant_op#Random_Tensors)\n",
    "  * `tf.random_normal`\n",
    "  * `tf.truncated_normal`\n",
    "  * `tf.random_uniform`\n",
    "  * `tf.random_shuffle`\n",
    "  * `tf.random_crop`\n",
    "  * `tf.multinomial`\n",
    "  * `tf.random_gamma`\n",
    "  * `tf.set_random_seed`"
   ]
  },
  {
   "cell_type": "markdown",
   "metadata": {},
   "source": [
    "### set random number seed"
   ]
  },
  {
   "cell_type": "code",
   "execution_count": null,
   "metadata": {},
   "outputs": [],
   "source": [
    "tf.set_random_seed(219)"
   ]
  },
  {
   "cell_type": "code",
   "execution_count": null,
   "metadata": {},
   "outputs": [],
   "source": [
    "g = tf.random_normal([2, 3])\n",
    "h = tf.random_uniform([2, 3, 4])"
   ]
  },
  {
   "cell_type": "code",
   "execution_count": null,
   "metadata": {},
   "outputs": [],
   "source": [
    "print(g)\n",
    "print(h)"
   ]
  },
  {
   "cell_type": "code",
   "execution_count": null,
   "metadata": {},
   "outputs": [],
   "source": [
    "print(g.shape)\n",
    "print(h.shape)"
   ]
  },
  {
   "cell_type": "code",
   "execution_count": null,
   "metadata": {},
   "outputs": [],
   "source": [
    "print(g.name)\n",
    "print(h.name)"
   ]
  },
  {
   "cell_type": "markdown",
   "metadata": {},
   "source": [
    "### `tf.Session()`을 사용하여 값을 출력해보자"
   ]
  },
  {
   "cell_type": "code",
   "execution_count": null,
   "metadata": {},
   "outputs": [],
   "source": [
    "with tf.Session(config=sess_config) as sess:\n",
    "  p, q = sess.run([g, h])\n",
    "  print('g:')\n",
    "  print(p, '\\n')\n",
    "  print('f:')\n",
    "  print(q, '\\n')"
   ]
  },
  {
   "cell_type": "markdown",
   "metadata": {},
   "source": [
    "## 직접 실습"
   ]
  },
  {
   "cell_type": "markdown",
   "metadata": {},
   "source": [
    "### 2D Tensor (matrix) 더하기 및 곱하기\n",
    "\n",
    "* 2 x 2 random matrix 생성\n",
    "  * x = [ [1, 2], [3, 4] ]\n",
    "  * y = [ [5, 6], [7, 8] ]\n",
    "* elementwise 더하기\n",
    "* elementwise 곱하기\n",
    "* matrix 곱하기"
   ]
  },
  {
   "cell_type": "code",
   "execution_count": null,
   "metadata": {},
   "outputs": [],
   "source": [
    "# TODO\n",
    "x = tf.convert_to_tensor([ [1, 2], [3, 4] ])\n",
    "y = tf.convert_to_tensor([ [5, 6], [7, 8] ])\n",
    "# z: elementwise 더하기\n",
    "z = x + y\n",
    "# w: elementwise 곱하기\n",
    "w = x * y\n",
    "# v: matrix 곱하기\n",
    "v = tf.matmul(x, y)\n",
    "\n",
    "with tf.Session(config=sess_config) as sess:\n",
    "  print(sess.run(x))\n",
    "  print(sess.run(y))\n",
    "  print(sess.run(z))\n",
    "  print(sess.run(w))\n",
    "  print(sess.run(v))"
   ]
  },
  {
   "cell_type": "markdown",
   "metadata": {},
   "source": [
    "##### output\n",
    "```python\n",
    "[[1 2]\n",
    " [3 4]]\n",
    "[[5 6]\n",
    " [7 8]]\n",
    "[[ 6  8]\n",
    " [10 12]]\n",
    "[[ 5 12]\n",
    " [21 32]]\n",
    "[[19 22]\n",
    " [43 50]]\n",
    "```"
   ]
  },
  {
   "cell_type": "markdown",
   "metadata": {},
   "source": [
    "### 3D Tensor 단면 자르기\n",
    "* tf.range를 이용하여 3 x 2 x 2 = 12 element list 생성\n",
    "* tf.reshape을 통해 3D Tensor 변환"
   ]
  },
  {
   "cell_type": "code",
   "execution_count": null,
   "metadata": {},
   "outputs": [],
   "source": [
    "# TODO\n",
    "x = tf.range(12)\n",
    "x = tf.reshape(x, [3, 2, 2])\n",
    "\n",
    "# index를 이용하여 slice\n",
    "y = x[0,:,:] + x[2,:,:]\n",
    "\n",
    "with tf.Session(config=sess_config) as sess:\n",
    "  print('x:')\n",
    "  print(sess.run(x), '\\n')\n",
    "  print('x\\'s first channel:')\n",
    "  print(sess.run(x[0,:,:]), '\\n')\n",
    "  print('x\\'s last channel:')\n",
    "  print(sess.run(x[2,:,:]), '\\n')\n",
    "  print('y:')\n",
    "  print(sess.run(y))"
   ]
  },
  {
   "cell_type": "markdown",
   "metadata": {},
   "source": [
    "##### output\n",
    "```python\n",
    "x:\n",
    "[[[ 0  1]\n",
    "  [ 2  3]]\n",
    "\n",
    " [[ 4  5]\n",
    "  [ 6  7]]\n",
    "\n",
    " [[ 8  9]\n",
    "  [10 11]]] \n",
    "\n",
    "x's first channel:\n",
    "[[0 1]\n",
    " [2 3]] \n",
    "\n",
    "x's last channel:\n",
    "[[ 8  9]\n",
    " [10 11]] \n",
    "\n",
    "y:\n",
    "[[ 8 10]\n",
    " [12 14]]\n",
    "```"
   ]
  },
  {
   "cell_type": "code",
   "execution_count": null,
   "metadata": {},
   "outputs": [],
   "source": []
  }
 ],
 "metadata": {
  "kernelspec": {
   "display_name": "Python 3",
   "language": "python",
   "name": "python3"
  },
  "language_info": {
   "codemirror_mode": {
    "name": "ipython",
    "version": 3
   },
   "file_extension": ".py",
   "mimetype": "text/x-python",
   "name": "python",
   "nbconvert_exporter": "python",
   "pygments_lexer": "ipython3",
   "version": "3.6.5"
  }
 },
 "nbformat": 4,
 "nbformat_minor": 2
}
