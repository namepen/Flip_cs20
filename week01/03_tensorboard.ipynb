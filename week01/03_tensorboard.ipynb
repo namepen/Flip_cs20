{
 "cells": [
  {
   "cell_type": "markdown",
   "metadata": {},
   "source": [
    "# Tensorboard 사용법"
   ]
  },
  {
   "cell_type": "code",
   "execution_count": null,
   "metadata": {},
   "outputs": [],
   "source": [
    "import tensorflow as tf\n",
    "\n",
    "sess_config = tf.ConfigProto(gpu_options=tf.GPUOptions(allow_growth=True))\n",
    "\n",
    "print(\"TensorFlow version: {}\".format(tf.VERSION))"
   ]
  },
  {
   "cell_type": "markdown",
   "metadata": {},
   "source": [
    "### `tf.summary.FileWriter`를 사용하여 그래프를 그림\n",
    "\n",
    "* [`tf.summary.FileWriter`](https://www.tensorflow.org/api_docs/python/tf/summary/FileWriter)\n",
    "* 그래프를 확인할 때는 아래의 명령어를 입력함\n",
    "\n",
    "```shell\n",
    "$ tensorboard --logdir path\n",
    "```\n",
    "\n",
    "여기서는\n",
    "```shell\n",
    "$ tensorboard --logdir graphs\n",
    "```\n",
    "\n",
    "* 그리고 웹브라우저를 열어 `localhost:6006` (주로 `127.0.0.1:6006`)을 입력함\n",
    "* 포트번호 `6006`은 goog(le) 을 뒤집은 것임."
   ]
  },
  {
   "cell_type": "code",
   "execution_count": null,
   "metadata": {},
   "outputs": [],
   "source": [
    "a = tf.constant(2)\n",
    "b = tf.constant(3)\n",
    "x = tf.add(a, b)\n",
    "\n",
    "with tf.Session(config=sess_config) as sess:\n",
    "  # add this line to use TensorBoard.\n",
    "  writer = tf.summary.FileWriter(\"./graphs/03_1\", sess.graph)\n",
    "  print(sess.run(x))\n",
    "  writer.close() # close the writer when you’re done using it"
   ]
  },
  {
   "cell_type": "markdown",
   "metadata": {},
   "source": [
    "### 같은 내용을 한번 더 실행해보자\n",
    "\n",
    "* 실행 후 `tensorboard`를 열어서 그래프 모양을 확인해보자"
   ]
  },
  {
   "cell_type": "code",
   "execution_count": null,
   "metadata": {},
   "outputs": [],
   "source": [
    "a = tf.constant(2)\n",
    "b = tf.constant(3)\n",
    "x = tf.add(a, b)\n",
    "\n",
    "with tf.Session(config=sess_config) as sess:\n",
    "  # add this line to use TensorBoard.\n",
    "  writer = tf.summary.FileWriter(\"./graphs/03_2\", sess.graph)\n",
    "  print(sess.run(x))\n",
    "  writer.close() # close the writer when you’re done using it"
   ]
  },
  {
   "cell_type": "markdown",
   "metadata": {},
   "source": [
    "### 같은 내용을 한번 더 실행해보자\n",
    "\n",
    "* 이번엔 위에 만들었던 그래프들을 지우고 다시 그래프를 그려보자\n",
    "* 실행 후 `tensorboard`를 열어서 그래프 모양을 확인해보자"
   ]
  },
  {
   "cell_type": "code",
   "execution_count": null,
   "metadata": {},
   "outputs": [],
   "source": [
    "# Only necessary if you use IDLE or a jupyter notebook\n",
    "tf.reset_default_graph()\n",
    "\n",
    "a = tf.constant(2)\n",
    "b = tf.constant(3)\n",
    "x = tf.add(a, b)\n",
    "\n",
    "with tf.Session(config=sess_config) as sess:\n",
    "  # add this line to use TensorBoard.\n",
    "  writer = tf.summary.FileWriter(\"./graphs/03_3\", sess.graph)\n",
    "  print(sess.run(x))\n",
    "  writer.close() # close the writer when you’re done using it"
   ]
  },
  {
   "cell_type": "markdown",
   "metadata": {},
   "source": [
    "### Explicitly Name\n",
    "\n",
    "* 명시적으로 변수에 이름을 정하지 않으면 tensorflow 내부적으로 tensorflow 기본이름을 붙여준다.\n",
    "  * `Const`, `Const_1`, `Const_2`, 이런식으로 같은 타입의 변수들은 자동으로 숫자가 붙는다."
   ]
  },
  {
   "cell_type": "code",
   "execution_count": null,
   "metadata": {},
   "outputs": [],
   "source": [
    "# Only necessary if you use IDLE or a jupyter notebook\n",
    "tf.reset_default_graph()\n",
    "\n",
    "a = tf.constant(2, name='a')\n",
    "b = tf.constant(3, name='b')\n",
    "x = tf.add(a, b, name='add')\n",
    "with tf.Session() as sess:\n",
    "  # add this line to use TensorBoard.\n",
    "  writer = tf.summary.FileWriter(\"./graphs/03_4\", sess.graph)\n",
    "  print(sess.run(x))\n",
    "  writer.close() # close the writer when you’re done using it"
   ]
  }
 ],
 "metadata": {
  "kernelspec": {
   "display_name": "Python 3",
   "language": "python",
   "name": "python3"
  },
  "language_info": {
   "codemirror_mode": {
    "name": "ipython",
    "version": 3
   },
   "file_extension": ".py",
   "mimetype": "text/x-python",
   "name": "python",
   "nbconvert_exporter": "python",
   "pygments_lexer": "ipython3",
   "version": "3.6.5"
  }
 },
 "nbformat": 4,
 "nbformat_minor": 2
}
