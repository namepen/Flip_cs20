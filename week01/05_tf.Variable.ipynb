{
 "cells": [
  {
   "cell_type": "markdown",
   "metadata": {},
   "source": [
    "# [`tf.Variable`](https://www.tensorflow.org/api_docs/python/tf/Variable)\n",
    "\n",
    "* 신경망에서 가중치와 같은 학습 가능한 parameter를 정의 할 때나 코드가 실행될 때 값이 변경 될 사항이 있을 때 유용함\n",
    "  * cf) `tf.constant`: session을 통해 실행될 때 값이 변하지 않음 (immutable)\n",
    "* `tf.Variable`은 사용하기 전에 꼭 **initializer**를 사용해야 함"
   ]
  },
  {
   "cell_type": "code",
   "execution_count": null,
   "metadata": {},
   "outputs": [],
   "source": [
    "import tensorflow as tf\n",
    "\n",
    "sess_config = tf.ConfigProto(gpu_options=tf.GPUOptions(allow_growth=True))\n",
    "\n",
    "tf.set_random_seed(219)"
   ]
  },
  {
   "cell_type": "markdown",
   "metadata": {},
   "source": [
    "### Old fashion"
   ]
  },
  {
   "cell_type": "code",
   "execution_count": null,
   "metadata": {},
   "outputs": [],
   "source": [
    "# 반복해서 shift + Enter를 눌러보자\n",
    "a = tf.Variable(2, name='scalar')\n",
    "b = tf.Variable([2, 3], name='vector')\n",
    "c = tf.Variable([[0, 1], [2, 3]], name='matrix')"
   ]
  },
  {
   "cell_type": "code",
   "execution_count": null,
   "metadata": {},
   "outputs": [],
   "source": [
    "with tf.Session(config=sess_config) as sess:\n",
    "  writer = tf.summary.FileWriter(\"./graphs/05_1\", sess.graph)\n",
    "  writer.close()"
   ]
  },
  {
   "cell_type": "markdown",
   "metadata": {},
   "source": [
    "### Today fashion"
   ]
  },
  {
   "cell_type": "code",
   "execution_count": null,
   "metadata": {},
   "outputs": [],
   "source": [
    "tf.reset_default_graph()"
   ]
  },
  {
   "cell_type": "code",
   "execution_count": null,
   "metadata": {},
   "outputs": [],
   "source": [
    "a = tf.get_variable(name='scalar', initializer=tf.constant(2))\n",
    "b = tf.get_variable(name='vector', initializer=tf.constant([2, 4]))\n",
    "c = tf.get_variable(name='matrix', initializer=tf.constant([[0, 1], [2, 3]]))"
   ]
  },
  {
   "cell_type": "code",
   "execution_count": null,
   "metadata": {},
   "outputs": [],
   "source": [
    "with tf.Session(config=sess_config) as sess:\n",
    "  writer = tf.summary.FileWriter(\"./graphs/05_2\", sess.graph)\n",
    "  writer.close()"
   ]
  },
  {
   "cell_type": "code",
   "execution_count": null,
   "metadata": {},
   "outputs": [],
   "source": [
    "x = a + a\n",
    "y = a + b\n",
    "print(x)\n",
    "print(y)"
   ]
  },
  {
   "cell_type": "code",
   "execution_count": null,
   "metadata": {},
   "outputs": [],
   "source": [
    "with tf.Session(config=sess_config) as sess:\n",
    "  print(sess.run(x))\n",
    "  print(sess.run(y))\n",
    "  # initialize를 하지 않아 에러가 난다"
   ]
  },
  {
   "cell_type": "markdown",
   "metadata": {},
   "source": [
    "## Initialize\n",
    "\n",
    "* 보통은 `tf.global_variables_initializer()`를 사용하여 모든 `tf.Variable`들은 한번에 초기화한다.\n",
    "  * 각 변수를 인자로 넣어 각각 변수별로 initialize 할 수 있다."
   ]
  },
  {
   "cell_type": "markdown",
   "metadata": {},
   "source": [
    "### 모든 변수 초기화"
   ]
  },
  {
   "cell_type": "code",
   "execution_count": null,
   "metadata": {},
   "outputs": [],
   "source": [
    "init_op = tf.global_variables_initializer()\n",
    "with tf.Session(config=sess_config) as sess:\n",
    "  sess.run(init_op)\n",
    "  print(sess.run(x))\n",
    "  print(sess.run(y))"
   ]
  },
  {
   "cell_type": "markdown",
   "metadata": {},
   "source": [
    "### 변수 지정하여 초기화\n",
    "\n",
    "* 변수 `a`와 `b`는 초기화 `c`는 초기화하지 않음\n",
    "  * `a`, `b`: 정상\n",
    "  * `c`: error"
   ]
  },
  {
   "cell_type": "code",
   "execution_count": null,
   "metadata": {},
   "outputs": [],
   "source": [
    "# Initialize only a subset of variables\n",
    "init_ab = tf.variables_initializer([a, b], name=\"init_ab\")\n",
    "with tf.Session(config=sess_config) as sess:\n",
    "  sess.run(init_ab)\n",
    "  print(sess.run(a))\n",
    "  print(sess.run(b))\n",
    "  print(sess.run(c)) # a, b는 initialize가 되어있고, c는 되어있지 않아 에러가 난다"
   ]
  },
  {
   "cell_type": "markdown",
   "metadata": {},
   "source": [
    "### `Tensor.initializer`: Tensor자체에 initializer를 직접 실행"
   ]
  },
  {
   "cell_type": "code",
   "execution_count": null,
   "metadata": {},
   "outputs": [],
   "source": [
    "tf.reset_default_graph()\n",
    "\n",
    "# Initialize a single variable\n",
    "#W = tf.Variable(tf.zeros([3, 2]))\n",
    "W = tf.get_variable('weights', shape=[3, 2], initializer=tf.zeros_initializer())\n",
    "with tf.Session(config=sess_config) as sess:\n",
    "  sess.run(W.initializer)\n",
    "  print(sess.run(W))"
   ]
  },
  {
   "cell_type": "markdown",
   "metadata": {},
   "source": [
    "### `tf.Variable.eval()`\n",
    "\n",
    "* `with` 구문 안에서 `sess.run()` 대신에 `Tensor`에 직접 실행 명령을 할 수 있다."
   ]
  },
  {
   "cell_type": "code",
   "execution_count": null,
   "metadata": {},
   "outputs": [],
   "source": [
    "tf.reset_default_graph()\n",
    "\n",
    "# Initialize a single variable\n",
    "#W = tf.Variable(tf.random_normal([3, 2]))\n",
    "W = tf.get_variable('weights', shape=[3, 2], initializer=tf.random_normal_initializer())\n",
    "with tf.Session(config=sess_config) as sess:\n",
    "  sess.run(W.initializer)\n",
    "  print(W.eval())"
   ]
  },
  {
   "cell_type": "markdown",
   "metadata": {},
   "source": [
    "## Assign\n",
    "\n",
    "### `tf.Variable.assign()`"
   ]
  },
  {
   "cell_type": "code",
   "execution_count": null,
   "metadata": {},
   "outputs": [],
   "source": [
    "#W = tf.Variable(10)\n",
    "W = tf.get_variable('W', initializer=tf.constant(10))\n",
    "W.assign(100)\n",
    "with tf.Session(config=sess_config) as sess:\n",
    "  sess.run(W.initializer)\n",
    "  print(W.eval())"
   ]
  },
  {
   "cell_type": "code",
   "execution_count": null,
   "metadata": {},
   "outputs": [],
   "source": [
    "tf.reset_default_graph()\n",
    "\n",
    "W = tf.get_variable('W', initializer=tf.constant(10))\n",
    "assign_op = W.assign(100)\n",
    "with tf.Session(config=sess_config) as sess:\n",
    "  sess.run(W.initializer)\n",
    "  sess.run(assign_op)\n",
    "  print(W.eval())"
   ]
  },
  {
   "cell_type": "code",
   "execution_count": null,
   "metadata": {},
   "outputs": [],
   "source": [
    "# create a variable whose original value is 2\n",
    "my_var = tf.get_variable('my_var', initializer=tf.constant(2))\n",
    "\n",
    "# assign a * 2 to a and call that op a_times_two\n",
    "my_var_times_two = my_var.assign(2 * my_var)\n",
    "\n",
    "with tf.Session(config=sess_config) as sess:\n",
    "  sess.run(my_var.initializer)\n",
    "  print(sess.run(my_var_times_two)) # >> 4\n",
    "  print(sess.run(my_var_times_two)) # >> 8\n",
    "  print(sess.run(my_var_times_two)) # >> 16"
   ]
  },
  {
   "cell_type": "markdown",
   "metadata": {},
   "source": [
    "## Two Sessions\n",
    "\n",
    "* `tf.Session()`을 동시에 두개를 돌려보자\n",
    "* 같은 변수 `W`가 서로 다른 Session에서 각각 다른 값을 가지고 있다"
   ]
  },
  {
   "cell_type": "code",
   "execution_count": null,
   "metadata": {},
   "outputs": [],
   "source": [
    "tf.reset_default_graph()\n",
    "\n",
    "W = tf.get_variable('W', initializer=tf.constant(10))\n",
    "\n",
    "sess1 = tf.Session(config=sess_config)\n",
    "sess2 = tf.Session(config=sess_config)\n",
    "\n",
    "sess1.run(W.initializer)\n",
    "sess2.run(W.initializer)\n",
    "\n",
    "print(sess1.run(W.assign_add(10))) # >> 20\n",
    "print(sess2.run(W.assign_sub(2))) # >> 8\n",
    "\n",
    "print(sess1.run(W.assign_add(100))) # >> 120\n",
    "print(sess2.run(W.assign_sub(50))) # >> -42\n",
    "\n",
    "sess1.close()\n",
    "sess2.close()"
   ]
  },
  {
   "cell_type": "code",
   "execution_count": null,
   "metadata": {},
   "outputs": [],
   "source": []
  }
 ],
 "metadata": {
  "kernelspec": {
   "display_name": "Python 3",
   "language": "python",
   "name": "python3"
  },
  "language_info": {
   "codemirror_mode": {
    "name": "ipython",
    "version": 3
   },
   "file_extension": ".py",
   "mimetype": "text/x-python",
   "name": "python",
   "nbconvert_exporter": "python",
   "pygments_lexer": "ipython3",
   "version": "3.6.5"
  }
 },
 "nbformat": 4,
 "nbformat_minor": 2
}
