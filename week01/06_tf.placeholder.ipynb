{
 "cells": [
  {
   "cell_type": "markdown",
   "metadata": {},
   "source": [
    "# [`tf.placeholder`](https://www.tensorflow.org/api_docs/python/tf/placeholder)\n",
    "\n",
    "* `tf.Session()` 을 실행 할 때 외부에서 값을 넣어줌\n",
    "* 학습데이터 또는 추론(inference) 할 때의 개별 데이터처럼 그래프 외부에서 값을 넣어주는 형태로 만들 필요가 있을 때 유용함"
   ]
  },
  {
   "cell_type": "code",
   "execution_count": null,
   "metadata": {},
   "outputs": [],
   "source": [
    "import tensorflow as tf\n",
    "\n",
    "sess_config = tf.ConfigProto(gpu_options=tf.GPUOptions(allow_growth=True))\n",
    "\n",
    "tf.set_random_seed(219)"
   ]
  },
  {
   "cell_type": "markdown",
   "metadata": {},
   "source": [
    "### `tf.placeholder`\n",
    "\n",
    "* `tf.Session()`을 열어서 실행할 때 값을 넣어줘야 한다.\n",
    "* 아래 예제처럼 그냥 `tf.Session()`을 실행하면 error가 생긴다."
   ]
  },
  {
   "cell_type": "code",
   "execution_count": null,
   "metadata": {},
   "outputs": [],
   "source": [
    "# create a placeholder\n",
    "a = tf.placeholder(tf.float32, shape=[3])\n",
    "\n",
    "# create a constant of type\n",
    "b = tf.constant([5, 5, 5], tf.float32)\n",
    "\n",
    "# use the placeholder as you would a constant or a variable\n",
    "c = a + b  # Short for tf.add(a, b)\n",
    "\n",
    "with tf.Session(config=sess_config) as sess:\n",
    "  print(sess.run(c)) # Error because a doesn’t have any"
   ]
  },
  {
   "cell_type": "markdown",
   "metadata": {},
   "source": [
    "### `tf.placeholder` 올바른 예제\n",
    "\n",
    "* `sess.run`할 때 `feed_dict`이라는 인자를 사용하여 placeholder `a`의 실제 값을 넣어준다.\n",
    "* `c`를 계산하려면 `c`에 연결된 모든 computational graph의 변수가 필요하다.\n",
    "  * 여기서는 `a`와 `b`의 값이 필요하다.\n",
    "  * `a`는 `tf.placeholder`형태이므로 `sess.run`에 `feed_dict`형태로 실제 값을 넣어줘야한다.\n",
    "  * `x`는 전체 그래프에는 속하지만 `c`와 직접적인 연결(`c`를 계산하는데 `x`가 필요없음)이 없으므로 `feed_dict`에는 필요없다."
   ]
  },
  {
   "cell_type": "code",
   "execution_count": null,
   "metadata": {},
   "outputs": [],
   "source": [
    "# create a placeholder\n",
    "a = tf.placeholder(tf.float32, shape=[3])\n",
    "# create unused placeholder\n",
    "x = tf.placeholder(tf.float32, shape=[3])\n",
    "\n",
    "# create a constant of type\n",
    "b = tf.constant([5, 5, 5], tf.float32)\n",
    "\n",
    "# use the placeholder as you would a constant or a variable\n",
    "c = a + b  # Short for tf.add(a, b)\n",
    "\n",
    "with tf.Session(config=sess_config) as sess:\n",
    "  print(sess.run(c, feed_dict={a: [1, 2, 3]}))"
   ]
  },
  {
   "cell_type": "markdown",
   "metadata": {},
   "source": [
    "### Normal Loading\n",
    "\n",
    "* Graph 구성부분과 Session 부분을 완벽하게 분리해야한다. (정상적인 방법)"
   ]
  },
  {
   "cell_type": "code",
   "execution_count": null,
   "metadata": {},
   "outputs": [],
   "source": [
    "# Only necessary if you use IDLE or a jupyter notebook\n",
    "tf.reset_default_graph()\n",
    "\n",
    "x = tf.Variable(10, name='x')\n",
    "y = tf.Variable(20, name='y')\n",
    "z = tf.add(x, y) # you create the node for add node before executing the graph\n",
    "\n",
    "with tf.Session(config=sess_config) as sess:\n",
    "  sess.run(tf.global_variables_initializer())\n",
    "  writer = tf.summary.FileWriter('./graphs/06_normal', sess.graph)\n",
    "  for _ in range(10):\n",
    "    print(sess.run(z))\n",
    "  writer.close()\n",
    "  print('\\n')\n",
    "\n",
    "  for node in tf.get_default_graph().as_graph_def().node:\n",
    "    print(node.name)"
   ]
  },
  {
   "cell_type": "markdown",
   "metadata": {},
   "source": [
    "### Lazy Loading\n",
    "\n",
    "* Graph 구성부분과 Session 부분을 완벽하게 분리하지 않았다.\n",
    "  * `tf.add`가 `for`문 안에서 계속 생성이 되는 구조\n",
    "  * `session`을 실행할 때 마다 새로운 노드가 추가됨\n",
    "  * 결과값에 에러는 없지만 실제로는 잘못된 코드"
   ]
  },
  {
   "cell_type": "code",
   "execution_count": null,
   "metadata": {},
   "outputs": [],
   "source": [
    "# Only necessary if you use IDLE or a jupyter notebook\n",
    "tf.reset_default_graph()\n",
    "\n",
    "x = tf.Variable(10, name='x')\n",
    "y = tf.Variable(20, name='y')\n",
    "\n",
    "with tf.Session(config=sess_config) as sess:\n",
    "  sess.run(tf.global_variables_initializer())\n",
    "  writer = tf.summary.FileWriter('./graphs/06_lazy', sess.graph)\n",
    "  for _ in range(10):\n",
    "    print(sess.run(tf.add(x, y)))\n",
    "  writer.close()\n",
    "  print('\\n')\n",
    "  \n",
    "  for node in tf.get_default_graph().as_graph_def().node:\n",
    "    print(node.name)"
   ]
  }
 ],
 "metadata": {
  "kernelspec": {
   "display_name": "Python 3",
   "language": "python",
   "name": "python3"
  },
  "language_info": {
   "codemirror_mode": {
    "name": "ipython",
    "version": 3
   },
   "file_extension": ".py",
   "mimetype": "text/x-python",
   "name": "python",
   "nbconvert_exporter": "python",
   "pygments_lexer": "ipython3",
   "version": "3.6.5"
  }
 },
 "nbformat": 4,
 "nbformat_minor": 2
}
