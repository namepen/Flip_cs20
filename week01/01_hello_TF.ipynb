{
 "cells": [
  {
   "cell_type": "markdown",
   "metadata": {},
   "source": [
    "# TensorFlow 기본 구조의 이해"
   ]
  },
  {
   "cell_type": "code",
   "execution_count": null,
   "metadata": {},
   "outputs": [],
   "source": [
    "import tensorflow as tf\n",
    "\n",
    "print(\"TensorFlow version: {}\".format(tf.VERSION))"
   ]
  },
  {
   "cell_type": "markdown",
   "metadata": {},
   "source": [
    "## TensorFlow Programming Stack\n",
    "\n",
    "<img src=\"../figures/tensorflow_programming_environment.png\" width=\"70%\">"
   ]
  },
  {
   "cell_type": "markdown",
   "metadata": {},
   "source": [
    "## Execution Style\n",
    "\n",
    "* [Eager execution](https://www.tensorflow.org/get_started/eager)\n",
    "  * 최근에 나온 방식\n",
    "  * 변수값을 바로 확인할 수 있음\n",
    "  * 마치 `numpy` 짜듯이 짤 수 있음\n",
    "* [Graph execution](https://www.tensorflow.org/get_started/get_started_for_beginners)\n",
    "  * TensorFlow 초창기 구현 방법\n",
    "  * 여전히 많이 이용하고 있음\n",
    "  * Graph 선언부분과 실행(Session)하는 부분이 분리되어 있음\n",
    "    * Phase1: Graph 선언\n",
    "    * Phase2: Session"
   ]
  },
  {
   "cell_type": "markdown",
   "metadata": {},
   "source": [
    "### Graph 생성\n",
    "\n",
    "* 변수를 생성하고 계산을 한다는 것은 그래프를 만드는 과정\n",
    "* `a`를 출력하면 **계산된 값**이 나오지 않음\n",
    "\n",
    "<img src=\"../figures/TF_graph.png\" width=\"60%\">"
   ]
  },
  {
   "cell_type": "code",
   "execution_count": null,
   "metadata": {},
   "outputs": [],
   "source": [
    "a = tf.add(3, 5)"
   ]
  },
  {
   "cell_type": "code",
   "execution_count": null,
   "metadata": {},
   "outputs": [],
   "source": [
    "print(a)"
   ]
  },
  {
   "cell_type": "markdown",
   "metadata": {},
   "source": [
    "<img src=\"../figures/TF_add1.png\" width=\"40%\">"
   ]
  },
  {
   "cell_type": "markdown",
   "metadata": {},
   "source": [
    "### Session 실행\n",
    "\n",
    "* 위의 과정은 그래프 형태만 만들어놓음\n",
    "* 실제 계산은 `tf.Session()`을 실행하여 계산함\n",
    "* 마치 파이프에 물(데이터)을 흘려보내는 것과 비슷함\n",
    "* `tf.Session()`을 열면 TF default로 GPU 메모리를 다 잡아버림\n",
    "  * 그것을 방지하기 위해 `gpu_options`을 다음과 같이 준다\n",
    "* GPU 사용량 확인하는 명령어\n",
    "  * `nvidia-smi`\n",
    "  * `watch`라는 명령어와 함께 쓰면 계속 갱신하면서 메모리 변화를 볼 수 있음\n",
    "    * `watch -n 1 nvidia-smi`"
   ]
  },
  {
   "cell_type": "code",
   "execution_count": null,
   "metadata": {},
   "outputs": [],
   "source": [
    "sess_config = tf.ConfigProto(gpu_options=tf.GPUOptions(allow_growth=True))\n",
    "#sess = tf.Session()\n",
    "sess = tf.Session(config=sess_config)\n",
    "print(sess.run(a))\n",
    "sess.close()"
   ]
  },
  {
   "cell_type": "markdown",
   "metadata": {},
   "source": [
    "<img src=\"../figures/TF_add2.png\" width=\"40%\">"
   ]
  },
  {
   "cell_type": "markdown",
   "metadata": {},
   "source": [
    "### `tf.Session()`을 `with` 구문으로\n",
    "\n",
    "* `session`을 열면 `sess.close()`로 명시적으로 닫아줘야 한다.\n",
    "* `with` 구문이 끝나면 알아서 `session`이 닫힌다."
   ]
  },
  {
   "cell_type": "code",
   "execution_count": null,
   "metadata": {},
   "outputs": [],
   "source": [
    "with tf.Session(config=sess_config) as sess:\n",
    "  print(sess.run(a))"
   ]
  },
  {
   "cell_type": "markdown",
   "metadata": {},
   "source": [
    "### `with tf.Session()`\n",
    "\n",
    "* 구문 안에서는 `sess.run()`대신 `eval()` method를 쓸 수 있다"
   ]
  },
  {
   "cell_type": "code",
   "execution_count": null,
   "metadata": {},
   "outputs": [],
   "source": [
    "with tf.Session(config=sess_config) as sess:\n",
    "  print(a.eval())"
   ]
  },
  {
   "cell_type": "markdown",
   "metadata": {},
   "source": [
    "### `tf.InteractiveSession()`\n",
    "\n",
    "* `with`구문이 아니더라도 `eval()` method를 쓸 수 있다"
   ]
  },
  {
   "cell_type": "code",
   "execution_count": null,
   "metadata": {},
   "outputs": [],
   "source": [
    "sess = tf.InteractiveSession(config=sess_config)\n",
    "print(a.eval())"
   ]
  },
  {
   "cell_type": "markdown",
   "metadata": {},
   "source": [
    "### 약간 더 복잡한 계산"
   ]
  },
  {
   "cell_type": "code",
   "execution_count": null,
   "metadata": {},
   "outputs": [],
   "source": [
    "x = 2\n",
    "y = 3\n",
    "w = tf.add(x, y)\n",
    "z = tf.multiply(x, y)\n",
    "p = tf.pow(z, w)\n",
    "print(p)\n",
    "with tf.Session(config=sess_config) as sess:\n",
    "  print(sess.run(p))"
   ]
  },
  {
   "cell_type": "markdown",
   "metadata": {},
   "source": [
    "<img src=\"../figures/TF_more_calculation.png\" width=\"60%\">"
   ]
  },
  {
   "cell_type": "markdown",
   "metadata": {},
   "source": [
    "### `Tensor`변수와 일반 `python` 변수"
   ]
  },
  {
   "cell_type": "code",
   "execution_count": null,
   "metadata": {},
   "outputs": [],
   "source": [
    "import numpy as np\n",
    "\n",
    "x = 2\n",
    "y = 3\n",
    "w = x + y\n",
    "z = x * y\n",
    "p = np.power(z, w)\n",
    "print(p)\n",
    "with tf.Session(config=sess_config) as sess:\n",
    "  print(sess.run(p)) # p는 sess.run()에 넣는 Tensor가 아니고 일반 python 변수이기 때문에 에러가 난다"
   ]
  },
  {
   "cell_type": "code",
   "execution_count": null,
   "metadata": {},
   "outputs": [],
   "source": [
    "x = tf.constant(2)\n",
    "y = tf.constant(3)\n",
    "w = x + y\n",
    "z = x * y\n",
    "p = tf.pow(z, w)\n",
    "print(p)\n",
    "with tf.Session(config=sess_config) as sess:\n",
    "  print(sess.run(p))"
   ]
  },
  {
   "cell_type": "code",
   "execution_count": null,
   "metadata": {},
   "outputs": [],
   "source": []
  }
 ],
 "metadata": {
  "kernelspec": {
   "display_name": "Python 3",
   "language": "python",
   "name": "python3"
  },
  "language_info": {
   "codemirror_mode": {
    "name": "ipython",
    "version": 3
   },
   "file_extension": ".py",
   "mimetype": "text/x-python",
   "name": "python",
   "nbconvert_exporter": "python",
   "pygments_lexer": "ipython3",
   "version": "3.6.5"
  }
 },
 "nbformat": 4,
 "nbformat_minor": 2
}
